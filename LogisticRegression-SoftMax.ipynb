{
 "cells": [
  {
   "cell_type": "markdown",
   "metadata": {},
   "source": [
    "## Load MNIST on Python 3.x"
   ]
  },
  {
   "cell_type": "code",
   "execution_count": 280,
   "metadata": {},
   "outputs": [],
   "source": [
    "import pickle\n",
    "import gzip\n",
    "import numpy as np"
   ]
  },
  {
   "cell_type": "code",
   "execution_count": 281,
   "metadata": {},
   "outputs": [
    {
     "name": "stdout",
     "output_type": "stream",
     "text": [
      "(50000, 784)\n",
      "(10000, 784)\n",
      "(10000, 784)\n",
      "(50000,)\n",
      "(10000,)\n",
      "(10000,)\n"
     ]
    }
   ],
   "source": [
    "filename = 'mnist.pkl.gz'\n",
    "f = gzip.open(filename, 'rb')\n",
    "training_data, validation_data, testing_data = pickle.load(f, encoding='latin1')\n",
    "\n",
    "train_data=np.array(training_data[0])\n",
    "train_target=np.array(training_data[1])\n",
    "valid_data=np.array(validation_data[0])\n",
    "valid_target=np.array(validation_data[1])\n",
    "test_data=np.array(testing_data[0])\n",
    "test_target=np.array(testing_data[1])\n",
    "\n",
    "print(train_data.shape)\n",
    "print(valid_data.shape)\n",
    "print(test_data.shape)\n",
    "\n",
    "print(train_target.shape)\n",
    "print(valid_target.shape)\n",
    "print(test_target.shape)\n",
    "f.close()"
   ]
  },
  {
   "cell_type": "markdown",
   "metadata": {},
   "source": [
    "## Load USPS on Python 3.x"
   ]
  },
  {
   "cell_type": "code",
   "execution_count": 28,
   "metadata": {},
   "outputs": [],
   "source": [
    "from PIL import Image\n",
    "import os\n"
   ]
  },
  {
   "cell_type": "code",
   "execution_count": 154,
   "metadata": {},
   "outputs": [
    {
     "name": "stdout",
     "output_type": "stream",
     "text": [
      "(19999, 784)\n",
      "(19999,)\n"
     ]
    }
   ],
   "source": [
    "USPSMat  = []\n",
    "USPSTar  = []\n",
    "curPath  = 'USPSdata/Numerals'\n",
    "savedImg = []\n",
    "\n",
    "for j in range(0,10):\n",
    "    curFolderPath = curPath + '/' + str(j)\n",
    "    imgs =  os.listdir(curFolderPath)\n",
    "    for img in imgs:\n",
    "        curImg = curFolderPath + '/' + img\n",
    "        if curImg[-3:] == 'png':\n",
    "            img = Image.open(curImg,'r')\n",
    "            img = img.resize((28, 28))\n",
    "            savedImg = img\n",
    "            imgdata = (255-np.array(img.getdata()))/255\n",
    "            USPSMat.append(imgdata)\n",
    "            USPSTar.append(j)\n",
    "print(np.array(USPSMat).shape)\n",
    "print(np.array(USPSTar).shape)\n",
    "USPS_data=np.array(USPSMat)\n",
    "USPS_Target=np.array(USPSTar)"
   ]
  },
  {
   "cell_type": "code",
   "execution_count": 282,
   "metadata": {},
   "outputs": [],
   "source": [
    "#Softmax function\n",
    "\n",
    "def softmax(x):\n",
    "    #print(x.shape)\n",
    "    x -= np.max(x)\n",
    "    return np.exp(x) / np.sum(np.exp(x), axis=0)"
   ]
  },
  {
   "cell_type": "code",
   "execution_count": 283,
   "metadata": {},
   "outputs": [],
   "source": [
    "#One Hot Encoding\n",
    "import scipy.sparse\n",
    "def oneHotEncoding(Y):\n",
    "    m = Y.shape[0]\n",
    "    #Y = Y[:,0]\n",
    "    oneHot = scipy.sparse.csr_matrix((np.ones(m), (Y, np.array(range(m)))))\n",
    "    oneHot = np.array(oneHot.todense()).T\n",
    "    return oneHot"
   ]
  },
  {
   "cell_type": "code",
   "execution_count": 284,
   "metadata": {},
   "outputs": [
    {
     "name": "stdout",
     "output_type": "stream",
     "text": [
      "(50000, 10)\n",
      "(10000, 10)\n",
      "(10000, 10)\n",
      "50000\n"
     ]
    }
   ],
   "source": [
    "oneHotTestTarget=oneHotEncoding(test_target)\n",
    "oneHotValidTarget=oneHotEncoding(valid_target)\n",
    "oneHotTrainTarget=oneHotEncoding(train_target)\n",
    "print(oneHotTrainTarget.shape)\n",
    "print(oneHotValidTarget.shape)\n",
    "print(oneHotTestTarget.shape)\n",
    "print(train_data.shape[0])"
   ]
  },
  {
   "cell_type": "code",
   "execution_count": 285,
   "metadata": {},
   "outputs": [],
   "source": [
    "\n",
    "def getGradientandLoss(w,x,y,lamda,bias):\n",
    "    m = x.shape[0] # number of training examples\n",
    "    y_mat = oneHotEncoding(y) #integer class coding into a one-hot representation\n",
    "    z = np.dot(x,w) #Then we compute raw class scores given our input and current weights\n",
    "    \n",
    "    #print(z[10000])\n",
    "    \n",
    "    prob = softmax(z+bias) #perform a softmax to get their probabilities\n",
    "    \n",
    "    #print(prob.shape)\n",
    "    loss = (-1 / m) * np.sum(y_mat * np.log(prob)) + (lamda/2)*np.sum(w*w) #We then find the loss of the probabilities\n",
    "    grad = (-1 / m) * np.dot(x.T,(y_mat - prob)) + lamda*w #compute the gradient for that loss\n",
    "    return loss,grad"
   ]
  },
  {
   "cell_type": "code",
   "execution_count": 286,
   "metadata": {},
   "outputs": [
    {
     "name": "stdout",
     "output_type": "stream",
     "text": [
      "784\n",
      "10\n"
     ]
    }
   ],
   "source": [
    "def getProbsAndPreds(data):\n",
    "    probs = softmax(np.dot(data,w))\n",
    "    preds = np.argmax(probs,axis=1)\n",
    "    return probs,preds\n",
    "\n",
    "print(train_data.shape[1])\n",
    "print(len(np.unique(train_target)))"
   ]
  },
  {
   "cell_type": "code",
   "execution_count": 296,
   "metadata": {},
   "outputs": [
    {
     "name": "stdout",
     "output_type": "stream",
     "text": [
      "4.598982331403888\n"
     ]
    }
   ],
   "source": [
    "#Mini Batch Stochastic Gradient Descent\n",
    "batch_size=100\n",
    "no_of_batches=500\n",
    "w = np.zeros([train_data.shape[1],len(np.unique(train_target))])\n",
    "b = np.zeros([batch_size,len(np.unique(train_target))])\n",
    "train_data_batched=np.split(train_data, no_of_batches)\n",
    "train_target_batched=np.split(train_target, no_of_batches)\n",
    "lamda = 10\n",
    "epochs = 100#\n",
    "learningRate = 1e-6\n",
    "losses = []\n",
    "for i in range(0,epochs):\n",
    "    for j in range(0,no_of_batches):\n",
    "        train_data_b=train_data_batched[j]\n",
    "        train_target_b=train_target_batched[j]\n",
    "        loss,grad = getGradientandLoss(w,train_data_b,train_target_b,lamda,b)\n",
    "        losses.append(loss)\n",
    "        w = w - (learningRate * grad)\n",
    "    \n",
    "print(loss)"
   ]
  },
  {
   "cell_type": "code",
   "execution_count": null,
   "metadata": {},
   "outputs": [],
   "source": []
  },
  {
   "cell_type": "code",
   "execution_count": 297,
   "metadata": {},
   "outputs": [
    {
     "data": {
      "text/plain": [
       "[<matplotlib.lines.Line2D at 0x119c936a0>]"
      ]
     },
     "execution_count": 297,
     "metadata": {},
     "output_type": "execute_result"
    },
    {
     "data": {
      "image/png": "[encoded data removed]",
      "text/plain": [
       "<Figure size 432x288 with 1 Axes>"
      ]
     },
     "metadata": {},
     "output_type": "display_data"
    }
   ],
   "source": [
    "import matplotlib.pyplot as plt\n",
    "plt.plot(losses)"
   ]
  },
  {
   "cell_type": "code",
   "execution_count": 229,
   "metadata": {},
   "outputs": [],
   "source": [
    "from sklearn.metrics import confusion_matrix\n",
    "def getAccuracy(data,target):\n",
    "    prob,prede = getProbsAndPreds(data)\n",
    "    print ('---------- Confusion Matrix--------------------')\n",
    "    print(confusion_matrix(target, prede))\n",
    "    \n",
    "    accuracy = sum(prede == target)/(float(len(target)))\n",
    "    return accuracy"
   ]
  },
  {
   "cell_type": "code",
   "execution_count": 298,
   "metadata": {},
   "outputs": [
    {
     "name": "stdout",
     "output_type": "stream",
     "text": [
      "----------Softmax Logistic Regression --------------------\n",
      "----------Mini Batch Stochastic Gradient Descent --------------------\n",
      "UBITname      = APURBAMA\n",
      "Person Number = 50288705\n",
      "---------- Confusion Matrix--------------------\n",
      "[[4735   16   14   25    9   16   94    7   10    6]\n",
      " [   0 5618   16    9    2    7   12    8    3    3]\n",
      " [ 309  728 3290  124  120    2  188  133   66    8]\n",
      " [ 217  450  114 3900   15   73   58  123   87   64]\n",
      " [  64  295   15    0 3998    2  128   74    9  274]\n",
      " [ 856  832    6  990  135 1210  150  146   67  114]\n",
      " [ 293  347   46    8   53   17 4182    2    3    0]\n",
      " [ 106  450   40    4   81    4    4 4419    7   60]\n",
      " [ 232 1133   62  629   67   25   84   80 2385  145]\n",
      " [ 175  414   17   95  607    8    8  779   21 2864]]\n",
      "Training Accuracy 73.202\n",
      "---------- Confusion Matrix--------------------\n",
      "[[ 942    5    3    6    0    2   23    5    5    0]\n",
      " [   0 1056    1    1    0    3    0    2    0    1]\n",
      " [  53  121  716   24   23    0   18   20   14    1]\n",
      " [  38   70   22  842    3   11    6    9   17   12]\n",
      " [  10   65    1    0  822    0   11    7    2   65]\n",
      " [ 195  154    6  182   22  258   30   31    8   29]\n",
      " [  44   65    8    0    8    1  841    0    0    0]\n",
      " [  25  102    8    0   14    0    0  938    0    3]\n",
      " [  38  246   13  110    6    3   13   25  531   24]\n",
      " [  30   64    2   15   93    2    2  142    2  609]]\n",
      "Validation Accuracy 75.55\n",
      "---------- Confusion Matrix--------------------\n",
      "[[ 955    3    0    3    0    4   11    1    3    0]\n",
      " [   0 1128    0    4    0    0    3    0    0    0]\n",
      " [  69  191  660   22   22    1   22   25   19    1]\n",
      " [  36   81   22  818    0    5    6   22   12    8]\n",
      " [   9   73    1    0  818    1   31    6    0   43]\n",
      " [ 158  149    0  216   29  247   29   39   10   15]\n",
      " [  73   51   10    0   16    6  802    0    0    0]\n",
      " [  12   94   15    0   12    0    0  885    1    9]\n",
      " [  58  169    9  130   16    6   18   32  517   19]\n",
      " [  39   63    6   11  130    1    2  128    2  627]]\n",
      "Testing MNIST Accuracy 74.57000000000001\n",
      "---------- Confusion Matrix--------------------\n",
      "[[ 939   92  183   28  313   17   72   98   21  237]\n",
      " [ 229  815   42  133   56   34   53  581   42   15]\n",
      " [ 472  338  575  109   65   16  164  182   63   15]\n",
      " [ 393  103   42 1033   30   44   57  137   90   71]\n",
      " [ 231  361   17   39  801   55   37  277   76  106]\n",
      " [ 481  317   75  387   34  240  175  158   59   74]\n",
      " [ 851  158  100   69   80   27  603   66   21   25]\n",
      " [ 153  896   86  152   30  104   45  420   85   29]\n",
      " [ 384  423   82  227   92  124  206   78  283  101]\n",
      " [ 185  537   69  309  104   32   32  460  171  101]]\n",
      "Testing USPS Accuracy 29.051452572628634\n"
     ]
    }
   ],
   "source": [
    "print ('----------Softmax Logistic Regression --------------------')\n",
    "print ('----------Mini Batch Stochastic Gradient Descent --------------------')\n",
    "print ('UBITname      = APURBAMA')\n",
    "print ('Person Number = 50288705')\n",
    "print(\"Training Accuracy \"+ str(getAccuracy(train_data,train_target)*100))\n",
    "print(\"Validation Accuracy \"+ str(getAccuracy(valid_data,valid_target)*100))\n",
    "print(\"Testing MNIST Accuracy \"+ str(getAccuracy(test_data,test_target)*100))\n",
    "print(\"Testing USPS Accuracy \"+ str(getAccuracy(USPS_data,USPS_Target)*100))"
   ]
  },
  {
   "cell_type": "code",
   "execution_count": 192,
   "metadata": {},
   "outputs": [],
   "source": []
  }
 ],
 "metadata": {
  "kernelspec": {
   "display_name": "Python 3",
   "language": "python",
   "name": "python3"
  },
  "language_info": {
   "codemirror_mode": {
    "name": "ipython",
    "version": 3
   },
   "file_extension": ".py",
   "mimetype": "text/x-python",
   "name": "python",
   "nbconvert_exporter": "python",
   "pygments_lexer": "ipython3",
   "version": "3.6.6"
  }
 },
 "nbformat": 4,
 "nbformat_minor": 2
}
