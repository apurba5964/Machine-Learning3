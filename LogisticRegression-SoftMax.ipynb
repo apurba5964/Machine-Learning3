{
 "cells": [
  {
   "cell_type": "markdown",
   "metadata": {},
   "source": [
    "## Load MNIST on Python 3.x"
   ]
  },
  {
   "cell_type": "code",
   "execution_count": 1,
   "metadata": {},
   "outputs": [],
   "source": [
    "import pickle\n",
    "import gzip\n",
    "import numpy as np"
   ]
  },
  {
   "cell_type": "code",
   "execution_count": 125,
   "metadata": {},
   "outputs": [
    {
     "name": "stdout",
     "output_type": "stream",
     "text": [
      "(50000, 784)\n",
      "(10000, 784)\n",
      "(10000, 784)\n",
      "(50000,)\n",
      "(10000,)\n",
      "(10000,)\n"
     ]
    }
   ],
   "source": [
    "filename = 'mnist.pkl.gz'\n",
    "f = gzip.open(filename, 'rb')\n",
    "training_data, validation_data, testing_data = pickle.load(f, encoding='latin1')\n",
    "\n",
    "train_data=np.array(training_data[0])\n",
    "train_target=np.array(training_data[1])\n",
    "valid_data=np.array(validation_data[0])\n",
    "valid_target=np.array(validation_data[1])\n",
    "test_data=np.array(testing_data[0])\n",
    "test_target=np.array(testing_data[1])\n",
    "\n",
    "print(train_data.shape)\n",
    "print(valid_data.shape)\n",
    "print(test_data.shape)\n",
    "\n",
    "print(train_target.shape)\n",
    "print(valid_target.shape)\n",
    "print(test_target.shape)\n",
    "f.close()"
   ]
  },
  {
   "cell_type": "markdown",
   "metadata": {},
   "source": [
    "## Load USPS on Python 3.x"
   ]
  },
  {
   "cell_type": "code",
   "execution_count": 28,
   "metadata": {},
   "outputs": [],
   "source": [
    "from PIL import Image\n",
    "import os\n"
   ]
  },
  {
   "cell_type": "code",
   "execution_count": 154,
   "metadata": {},
   "outputs": [
    {
     "name": "stdout",
     "output_type": "stream",
     "text": [
      "(19999, 784)\n",
      "(19999,)\n"
     ]
    }
   ],
   "source": [
    "USPSMat  = []\n",
    "USPSTar  = []\n",
    "curPath  = 'USPSdata/Numerals'\n",
    "savedImg = []\n",
    "\n",
    "for j in range(0,10):\n",
    "    curFolderPath = curPath + '/' + str(j)\n",
    "    imgs =  os.listdir(curFolderPath)\n",
    "    for img in imgs:\n",
    "        curImg = curFolderPath + '/' + img\n",
    "        if curImg[-3:] == 'png':\n",
    "            img = Image.open(curImg,'r')\n",
    "            img = img.resize((28, 28))\n",
    "            savedImg = img\n",
    "            imgdata = (255-np.array(img.getdata()))/255\n",
    "            USPSMat.append(imgdata)\n",
    "            USPSTar.append(j)\n",
    "print(np.array(USPSMat).shape)\n",
    "print(np.array(USPSTar).shape)\n",
    "USPS_data=np.array(USPSMat)\n",
    "USPS_Target=np.array(USPSTar)"
   ]
  },
  {
   "cell_type": "code",
   "execution_count": 138,
   "metadata": {},
   "outputs": [],
   "source": [
    "#Softmax function\n",
    "\n",
    "def softmax(x):\n",
    "    #print(x.shape)\n",
    "    x -= np.max(x)\n",
    "    return np.exp(x) / np.sum(np.exp(x), axis=0)"
   ]
  },
  {
   "cell_type": "code",
   "execution_count": 139,
   "metadata": {},
   "outputs": [],
   "source": [
    "#One Hot Encoding\n",
    "import scipy.sparse\n",
    "def oneHotIt(Y):\n",
    "    m = Y.shape[0]\n",
    "    #Y = Y[:,0]\n",
    "    OHX = scipy.sparse.csr_matrix((np.ones(m), (Y, np.array(range(m)))))\n",
    "    OHX = np.array(OHX.todense()).T\n",
    "    return OHX"
   ]
  },
  {
   "cell_type": "code",
   "execution_count": 135,
   "metadata": {},
   "outputs": [
    {
     "name": "stdout",
     "output_type": "stream",
     "text": [
      "(50000, 10)\n",
      "(10000, 10)\n",
      "(10000, 10)\n",
      "50000\n"
     ]
    }
   ],
   "source": [
    "oneHotTestTarget=oneHotIt(test_target)\n",
    "oneHotValidTarget=oneHotIt(valid_target)\n",
    "oneHotTrainTarget=oneHotIt(train_target)\n",
    "print(oneHotTrainTarget.shape)\n",
    "print(oneHotValidTarget.shape)\n",
    "print(oneHotTestTarget.shape)\n",
    "print(train_data.shape[0])"
   ]
  },
  {
   "cell_type": "code",
   "execution_count": 168,
   "metadata": {},
   "outputs": [],
   "source": [
    "\n",
    "def getLoss(w,x,y,lamda):\n",
    "    m = x.shape[0] #First we get the number of training examples\n",
    "    y_mat = oneHotIt(y) #Next we convert the integer class coding into a one-hot representation\n",
    "    scores = np.dot(x,w) #Then we compute raw class scores given our input and current weights\n",
    "    \n",
    "    #print(scores[10000])\n",
    "    \n",
    "    prob = softmax(scores) #Next we perform a softmax on these scores to get their probabilities\n",
    "    \n",
    "    #print(prob.shape)\n",
    "    loss = (-1 / m) * np.sum(y_mat * np.log(prob)) + (lamda/2)*np.sum(w*w) #We then find the loss of the probabilities\n",
    "    grad = (-1 / m) * np.dot(x.T,(y_mat - prob)) + lamda*w #And compute the gradient for that loss\n",
    "    return loss,grad"
   ]
  },
  {
   "cell_type": "code",
   "execution_count": 81,
   "metadata": {},
   "outputs": [
    {
     "name": "stdout",
     "output_type": "stream",
     "text": [
      "784\n",
      "10\n"
     ]
    }
   ],
   "source": [
    "def getProbsAndPreds(someX):\n",
    "    probs = softmax(np.dot(someX,w))\n",
    "    preds = np.argmax(probs,axis=1)\n",
    "    return probs,preds\n",
    "\n",
    "print(train_data.shape[1])\n",
    "print(len(np.unique(train_target)))"
   ]
  },
  {
   "cell_type": "code",
   "execution_count": null,
   "metadata": {},
   "outputs": [],
   "source": [
    "w = np.zeros([train_data.shape[1],len(np.unique(train_target))])\n",
    "b = np.zeros(shape=(10, 1))\n",
    "lamda = 10\n",
    "iterations = 300\n",
    "learningRate = 1e-4\n",
    "losses = []\n",
    "for i in range(0,iterations):\n",
    "    loss,grad = getLoss(w,train_data,train_target,lamda)\n",
    "    losses.append(loss)\n",
    "    w = w - (learningRate * grad)\n",
    "    \n",
    "print(loss)"
   ]
  },
  {
   "cell_type": "code",
   "execution_count": null,
   "metadata": {},
   "outputs": [],
   "source": [
    "import matplotlib.pyplot as plt\n",
    "plt.plot(losses)"
   ]
  },
  {
   "cell_type": "code",
   "execution_count": 78,
   "metadata": {},
   "outputs": [],
   "source": [
    "def getAccuracy(someX,someY):\n",
    "    prob,prede = getProbsAndPreds(someX)\n",
    "    accuracy = sum(prede == someY)/(float(len(someY)))\n",
    "    return accuracy"
   ]
  },
  {
   "cell_type": "code",
   "execution_count": null,
   "metadata": {},
   "outputs": [],
   "source": [
    "print(\"Training Accuracy \"+ str(getAccuracy(train_data,train_target)*100))\n",
    "print(\"Validation Accuracy \"+ str(getAccuracy(valid_data,valid_target)*100))\n",
    "print(\"Testing MNIST Accuracy \"+ str(getAccuracy(test_data,test_target)*100))\n",
    "print(\"Testing USPS Accuracy \"+ str(getAccuracy(USPS_data,USPS_Target)*100))"
   ]
  }
 ],
 "metadata": {
  "kernelspec": {
   "display_name": "Python 3",
   "language": "python",
   "name": "python3"
  },
  "language_info": {
   "codemirror_mode": {
    "name": "ipython",
    "version": 3
   },
   "file_extension": ".py",
   "mimetype": "text/x-python",
   "name": "python",
   "nbconvert_exporter": "python",
   "pygments_lexer": "ipython3",
   "version": "3.6.6"
  }
 },
 "nbformat": 4,
 "nbformat_minor": 2
}
