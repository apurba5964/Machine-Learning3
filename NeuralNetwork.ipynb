{
 "cells": [
  {
   "cell_type": "markdown",
   "metadata": {},
   "source": [
    "## Load MNIST on Python 3.x"
   ]
  },
  {
   "cell_type": "code",
   "execution_count": 13,
   "metadata": {},
   "outputs": [
    {
     "name": "stderr",
     "output_type": "stream",
     "text": [
      "Using TensorFlow backend.\n"
     ]
    }
   ],
   "source": [
    "import pickle\n",
    "import gzip\n",
    "import numpy as np\n",
    "from sklearn.metrics import accuracy_score\n",
    "from keras.utils import np_utils\n",
    "from keras.models import Sequential\n",
    "from keras.layers import Dense, Activation, Dropout\n",
    "from keras.layers.advanced_activations import LeakyReLU\n",
    "from keras.utils.vis_utils import plot_model\n",
    "from keras.callbacks import EarlyStopping, TensorBoard"
   ]
  },
  {
   "cell_type": "code",
   "execution_count": 6,
   "metadata": {},
   "outputs": [
    {
     "name": "stdout",
     "output_type": "stream",
     "text": [
      "(50000, 784)\n",
      "(10000, 784)\n",
      "(10000, 784)\n",
      "(50000,)\n",
      "(10000,)\n",
      "(10000,)\n"
     ]
    }
   ],
   "source": [
    "filename = 'mnist.pkl.gz'\n",
    "f = gzip.open(filename, 'rb')\n",
    "training_data, validation_data, testing_data = pickle.load(f, encoding='latin1')\n",
    "\n",
    "train_data=np.array(training_data[0])\n",
    "train_target=np.array(training_data[1])\n",
    "valid_data=np.array(validation_data[0])\n",
    "valid_target=np.array(validation_data[1])\n",
    "test_data=np.array(testing_data[0])\n",
    "test_target=np.array(testing_data[1])\n",
    "\n",
    "print(train_data.shape)\n",
    "print(valid_data.shape)\n",
    "print(test_data.shape)\n",
    "\n",
    "print(train_target.shape)\n",
    "print(valid_target.shape)\n",
    "print(test_target.shape)\n",
    "f.close()"
   ]
  },
  {
   "cell_type": "markdown",
   "metadata": {},
   "source": [
    "## Load USPS on Python 3.x"
   ]
  },
  {
   "cell_type": "code",
   "execution_count": 7,
   "metadata": {},
   "outputs": [],
   "source": [
    "from PIL import Image\n",
    "import os\n"
   ]
  },
  {
   "cell_type": "code",
   "execution_count": 8,
   "metadata": {},
   "outputs": [
    {
     "name": "stdout",
     "output_type": "stream",
     "text": [
      "(19999, 784)\n",
      "(19999,)\n"
     ]
    }
   ],
   "source": [
    "USPSMat  = []\n",
    "USPSTar  = []\n",
    "curPath  = 'USPSdata/Numerals'\n",
    "savedImg = []\n",
    "\n",
    "for j in range(0,10):\n",
    "    curFolderPath = curPath + '/' + str(j)\n",
    "    imgs =  os.listdir(curFolderPath)\n",
    "    for img in imgs:\n",
    "        curImg = curFolderPath + '/' + img\n",
    "        if curImg[-3:] == 'png':\n",
    "            img = Image.open(curImg,'r')\n",
    "            img = img.resize((28, 28))\n",
    "            savedImg = img\n",
    "            imgdata = (255-np.array(img.getdata()))/255\n",
    "            USPSMat.append(imgdata)\n",
    "            USPSTar.append(j)\n",
    "print(np.array(USPSMat).shape)\n",
    "print(np.array(USPSTar).shape)\n",
    "USPS_data=np.array(USPSMat)\n",
    "USPS_Target=np.array(USPSTar)"
   ]
  },
  {
   "cell_type": "code",
   "execution_count": 59,
   "metadata": {},
   "outputs": [],
   "source": [
    "def genMNISTModel(RawData):\n",
    "    input_size = RawData.shape[1]\n",
    "    drop_out = 0.2\n",
    "    first_dense_layer_nodes  = 128 \n",
    "    second_dense_layer_nodes = 64\n",
    "    \n",
    "    third_dense_layer_nodes = 10\n",
    "\n",
    "\n",
    "    model = Sequential()\n",
    "    model.add(Dense(first_dense_layer_nodes, input_dim=input_size))\n",
    "    model.add(Activation('relu'))\n",
    "    model.add(Dropout(drop_out))\n",
    "\n",
    "\n",
    "\n",
    "    model.add(Dense(second_dense_layer_nodes, input_dim=input_size))\n",
    "    model.add(Activation('relu'))\n",
    "\n",
    "    model.add(Dropout(drop_out))\n",
    "\n",
    "    model.add(Dense(third_dense_layer_nodes))\n",
    "    model.add(Activation('softmax'))\n",
    "\n",
    "\n",
    "    model.compile(optimizer='adam',\n",
    "                  loss='categorical_crossentropy',\n",
    "                  metrics=['accuracy'])\n",
    "\n",
    "    model.summary()\n",
    "    return model\n",
    "\n"
   ]
  },
  {
   "cell_type": "code",
   "execution_count": 60,
   "metadata": {},
   "outputs": [
    {
     "name": "stdout",
     "output_type": "stream",
     "text": [
      "_________________________________________________________________\n",
      "Layer (type)                 Output Shape              Param #   \n",
      "=================================================================\n",
      "dense_10 (Dense)             (None, 128)               100480    \n",
      "_________________________________________________________________\n",
      "activation_10 (Activation)   (None, 128)               0         \n",
      "_________________________________________________________________\n",
      "dropout_7 (Dropout)          (None, 128)               0         \n",
      "_________________________________________________________________\n",
      "dense_11 (Dense)             (None, 64)                8256      \n",
      "_________________________________________________________________\n",
      "activation_11 (Activation)   (None, 64)                0         \n",
      "_________________________________________________________________\n",
      "dropout_8 (Dropout)          (None, 64)                0         \n",
      "_________________________________________________________________\n",
      "dense_12 (Dense)             (None, 10)                650       \n",
      "_________________________________________________________________\n",
      "activation_12 (Activation)   (None, 10)                0         \n",
      "=================================================================\n",
      "Total params: 109,386\n",
      "Trainable params: 109,386\n",
      "Non-trainable params: 0\n",
      "_________________________________________________________________\n"
     ]
    }
   ],
   "source": [
    "MNISTmodel=genMNISTModel(train_data)"
   ]
  },
  {
   "cell_type": "code",
   "execution_count": 61,
   "metadata": {},
   "outputs": [],
   "source": [
    "from keras.utils import np_utils\n",
    "def runMNISTModel(train_data,train_target,model):\n",
    "    \n",
    "    validation_data_split = 0.2 # This is the validation data split ratio from the training set .This means last 20% of\n",
    "# data will be used as the validation set.\n",
    "    num_epochs = 50 # epochs are the number of datasets given to the model to learn.Changing to 1000 for 3 dense layers\n",
    "# as accuracy is reaching 0.99 in the first 200 epochs only   \n",
    "    model_batch_size = 100 # No of training examples used per iteration\n",
    "    tb_batch_size = 32 # batch_size used in callback functions to get the statistics of the model that is getting trained\n",
    "    early_patience = 25 # no of epochs with no improvement after which training is stopped\n",
    "\n",
    "# EarlyStopping is used to stop the training when a monitored value stops improving.\n",
    "    tensorboard_cb   = TensorBoard(log_dir='logs', batch_size= tb_batch_size, write_graph= True)\n",
    "    earlystopping_cb = EarlyStopping(monitor='val_loss', verbose=1, patience=early_patience, mode='min')\n",
    "\n",
    "    TrainingData = train_data\n",
    "    TrainingTarget = train_target\n",
    "    TargetVector = np_utils.to_categorical(TrainingTarget,10)\n",
    "    #print(TrainingData)\n",
    "    history = model.fit(TrainingData\n",
    "                    , TargetVector\n",
    "                    , validation_data=(valid_data,np_utils.to_categorical(valid_target,10))\n",
    "                    , epochs=num_epochs\n",
    "                    , batch_size=model_batch_size\n",
    "                    , callbacks = [tensorboard_cb,earlystopping_cb]\n",
    "                   )\n",
    "    return history"
   ]
  },
  {
   "cell_type": "code",
   "execution_count": 62,
   "metadata": {},
   "outputs": [
    {
     "name": "stdout",
     "output_type": "stream",
     "text": [
      "Train on 50000 samples, validate on 10000 samples\n",
      "Epoch 1/50\n",
      "50000/50000 [==============================] - 24s 474us/step - loss: 0.4552 - acc: 0.8618 - val_loss: 0.1655 - val_acc: 0.9514\n",
      "Epoch 2/50\n",
      "50000/50000 [==============================] - 22s 443us/step - loss: 0.2064 - acc: 0.9392 - val_loss: 0.1169 - val_acc: 0.9664\n",
      "Epoch 3/50\n",
      "50000/50000 [==============================] - 22s 438us/step - loss: 0.1552 - acc: 0.9532 - val_loss: 0.1072 - val_acc: 0.9687\n",
      "Epoch 4/50\n",
      "50000/50000 [==============================] - 21s 426us/step - loss: 0.1296 - acc: 0.9612 - val_loss: 0.0922 - val_acc: 0.9736\n",
      "Epoch 5/50\n",
      "50000/50000 [==============================] - 26s 512us/step - loss: 0.1109 - acc: 0.9668 - val_loss: 0.0864 - val_acc: 0.9748\n",
      "Epoch 6/50\n",
      "50000/50000 [==============================] - 22s 443us/step - loss: 0.0973 - acc: 0.9700 - val_loss: 0.0831 - val_acc: 0.9762\n",
      "Epoch 7/50\n",
      "50000/50000 [==============================] - 23s 461us/step - loss: 0.0871 - acc: 0.9727 - val_loss: 0.0803 - val_acc: 0.9770\n",
      "Epoch 8/50\n",
      "50000/50000 [==============================] - 21s 430us/step - loss: 0.0790 - acc: 0.9750 - val_loss: 0.0820 - val_acc: 0.9770\n",
      "Epoch 9/50\n",
      "50000/50000 [==============================] - 21s 422us/step - loss: 0.0720 - acc: 0.9772 - val_loss: 0.0800 - val_acc: 0.9779\n",
      "Epoch 10/50\n",
      "50000/50000 [==============================] - 20s 405us/step - loss: 0.0654 - acc: 0.9797 - val_loss: 0.0771 - val_acc: 0.9782\n",
      "Epoch 11/50\n",
      "50000/50000 [==============================] - 21s 422us/step - loss: 0.0628 - acc: 0.9797 - val_loss: 0.0762 - val_acc: 0.9789\n",
      "Epoch 12/50\n",
      "50000/50000 [==============================] - 24s 476us/step - loss: 0.0553 - acc: 0.9820 - val_loss: 0.0820 - val_acc: 0.9781\n",
      "Epoch 13/50\n",
      "50000/50000 [==============================] - 24s 470us/step - loss: 0.0549 - acc: 0.9818 - val_loss: 0.0742 - val_acc: 0.9807\n",
      "Epoch 14/50\n",
      "50000/50000 [==============================] - 26s 511us/step - loss: 0.0510 - acc: 0.9833 - val_loss: 0.0837 - val_acc: 0.9790\n",
      "Epoch 15/50\n",
      "50000/50000 [==============================] - 24s 476us/step - loss: 0.0514 - acc: 0.9831 - val_loss: 0.0781 - val_acc: 0.9802\n",
      "Epoch 16/50\n",
      "50000/50000 [==============================] - 21s 427us/step - loss: 0.0454 - acc: 0.9849 - val_loss: 0.0773 - val_acc: 0.9794\n",
      "Epoch 17/50\n",
      "50000/50000 [==============================] - 20s 399us/step - loss: 0.0425 - acc: 0.9860 - val_loss: 0.0768 - val_acc: 0.9806\n",
      "Epoch 18/50\n",
      "50000/50000 [==============================] - 24s 476us/step - loss: 0.0433 - acc: 0.9860 - val_loss: 0.0774 - val_acc: 0.9797\n",
      "Epoch 19/50\n",
      "50000/50000 [==============================] - 21s 415us/step - loss: 0.0419 - acc: 0.9863 - val_loss: 0.0748 - val_acc: 0.9808\n",
      "Epoch 20/50\n",
      "50000/50000 [==============================] - 20s 406us/step - loss: 0.0399 - acc: 0.9862 - val_loss: 0.0746 - val_acc: 0.9819\n",
      "Epoch 21/50\n",
      "50000/50000 [==============================] - 21s 423us/step - loss: 0.0358 - acc: 0.9877 - val_loss: 0.0759 - val_acc: 0.9814\n",
      "Epoch 22/50\n",
      "50000/50000 [==============================] - 22s 446us/step - loss: 0.0344 - acc: 0.9887 - val_loss: 0.0786 - val_acc: 0.9813\n",
      "Epoch 23/50\n",
      "50000/50000 [==============================] - 23s 462us/step - loss: 0.0354 - acc: 0.9884 - val_loss: 0.0806 - val_acc: 0.9809\n",
      "Epoch 24/50\n",
      "50000/50000 [==============================] - 23s 468us/step - loss: 0.0337 - acc: 0.9886 - val_loss: 0.0854 - val_acc: 0.9804\n",
      "Epoch 25/50\n",
      "50000/50000 [==============================] - 22s 446us/step - loss: 0.0328 - acc: 0.9889 - val_loss: 0.0816 - val_acc: 0.9817\n",
      "Epoch 26/50\n",
      "50000/50000 [==============================] - 26s 516us/step - loss: 0.0326 - acc: 0.9889 - val_loss: 0.0905 - val_acc: 0.9807\n",
      "Epoch 27/50\n",
      "50000/50000 [==============================] - 29s 572us/step - loss: 0.0326 - acc: 0.9889 - val_loss: 0.0860 - val_acc: 0.9806\n",
      "Epoch 28/50\n",
      "50000/50000 [==============================] - 22s 438us/step - loss: 0.0324 - acc: 0.9889 - val_loss: 0.0829 - val_acc: 0.9817\n",
      "Epoch 29/50\n",
      "50000/50000 [==============================] - 22s 446us/step - loss: 0.0296 - acc: 0.9908 - val_loss: 0.0862 - val_acc: 0.9809\n",
      "Epoch 30/50\n",
      "50000/50000 [==============================] - 23s 459us/step - loss: 0.0301 - acc: 0.9899 - val_loss: 0.0791 - val_acc: 0.9817\n",
      "Epoch 31/50\n",
      "50000/50000 [==============================] - 28s 552us/step - loss: 0.0281 - acc: 0.9900 - val_loss: 0.0831 - val_acc: 0.9807\n",
      "Epoch 32/50\n",
      "50000/50000 [==============================] - 22s 450us/step - loss: 0.0290 - acc: 0.9902 - val_loss: 0.0832 - val_acc: 0.9807\n",
      "Epoch 33/50\n",
      "50000/50000 [==============================] - 23s 458us/step - loss: 0.0261 - acc: 0.9910 - val_loss: 0.0815 - val_acc: 0.9832\n",
      "Epoch 34/50\n",
      "50000/50000 [==============================] - 29s 578us/step - loss: 0.0295 - acc: 0.9900 - val_loss: 0.0867 - val_acc: 0.9800\n",
      "Epoch 35/50\n",
      "50000/50000 [==============================] - 24s 483us/step - loss: 0.0254 - acc: 0.9919 - val_loss: 0.0841 - val_acc: 0.9812\n",
      "Epoch 36/50\n",
      "50000/50000 [==============================] - 27s 547us/step - loss: 0.0252 - acc: 0.9921 - val_loss: 0.0914 - val_acc: 0.9813\n",
      "Epoch 37/50\n",
      "50000/50000 [==============================] - 21s 416us/step - loss: 0.0238 - acc: 0.9921 - val_loss: 0.0911 - val_acc: 0.9822\n",
      "Epoch 38/50\n",
      "50000/50000 [==============================] - 20s 403us/step - loss: 0.0263 - acc: 0.9914 - val_loss: 0.0857 - val_acc: 0.9809\n",
      "Epoch 00038: early stopping\n"
     ]
    }
   ],
   "source": [
    "history=runMNISTModel(train_data,train_target,MNISTmodel)"
   ]
  },
  {
   "cell_type": "code",
   "execution_count": 63,
   "metadata": {},
   "outputs": [
    {
     "data": {
      "text/plain": [
       "array([<matplotlib.axes._subplots.AxesSubplot object at 0x1a5d378240>,\n",
       "       <matplotlib.axes._subplots.AxesSubplot object at 0x1a5d3df550>,\n",
       "       <matplotlib.axes._subplots.AxesSubplot object at 0x1a5d414710>,\n",
       "       <matplotlib.axes._subplots.AxesSubplot object at 0x1a5d3c08d0>],\n",
       "      dtype=object)"
      ]
     },
     "execution_count": 63,
     "metadata": {},
     "output_type": "execute_result"
    },
    {
     "data": {
      "image/png": "[encoded data removed]",
      "text/plain": [
       "<Figure size 720x1080 with 4 Axes>"
      ]
     },
     "metadata": {},
     "output_type": "display_data"
    }
   ],
   "source": [
    "import pandas as pd\n",
    "%matplotlib inline\n",
    "df = pd.DataFrame(history.history)\n",
    "df.plot(subplots=True, grid=True, figsize=(10,15))"
   ]
  },
  {
   "cell_type": "code",
   "execution_count": 65,
   "metadata": {},
   "outputs": [
    {
     "name": "stdout",
     "output_type": "stream",
     "text": [
      "----------Keras Neural Network MNIST Data Prediction --------------------\n",
      "UBITname      = APURBAMA\n",
      "Person Number = 50288705\n",
      "MNIST Testing Accuracy =97.88\n",
      "USPS Testing Accuracy =46.83234161708085\n",
      "---------- MNIST Testing Confusion Matrix--------------------\n",
      "[[ 972    0    1    1    1    1    1    1    1    1]\n",
      " [   0 1128    3    0    0    0    2    0    2    0]\n",
      " [   4    2 1002    6    1    0    1    7    9    0]\n",
      " [   0    0    1  987    0    5    0    4    5    8]\n",
      " [   2    1    4    1  964    0    3    2    0    5]\n",
      " [   2    0    0    9    2  865    5    0    7    2]\n",
      " [   4    4    0    1    2    3  944    0    0    0]\n",
      " [   0    8    9    2    0    0    0 1002    2    5]\n",
      " [   4    0    2    5    3    4    0    4  950    2]\n",
      " [   1    4    0    5   14    2    1    5    3  974]]\n",
      "---------- USPS Testing Confusion Matrix--------------------\n",
      "[[ 490    4  130  150   90  301  264  289   58  224]\n",
      " [  25  549  367  102  384  113   21  311   95   33]\n",
      " [  35   21 1531   82   25  102   76   54   66    7]\n",
      " [   2   10  143 1465    2  309   12   28   26    3]\n",
      " [   7   93   59   46 1096  117   42  355  142   43]\n",
      " [  19   11  217  162   10 1372   79   52   72    6]\n",
      " [  59   10  355   28   31  200 1144   80   16   77]\n",
      " [   9   69  229  591   26   43   20  843  156   14]\n",
      " [  99   14  138  481   52  297  146  156  591   26]\n",
      " [   6   50   81  421  160   35   14  732  216  285]]\n"
     ]
    }
   ],
   "source": [
    "from sklearn.metrics import confusion_matrix\n",
    "right   = 0\n",
    "uright = 0 \n",
    "mnistPredictions = MNISTmodel.predict(test_data)\n",
    "mnist_target = np_utils.to_categorical(test_target, 10)\n",
    "\n",
    "uspsPrediction = MNISTmodel.predict(USPS_data)\n",
    "usps_target = np_utils.to_categorical(USPS_Target, 10)\n",
    "\n",
    "for i in range(0,len(mnistPredictions)):\n",
    "    if(mnist_target[i].argmax()==mnistPredictions[i].argmax()):\n",
    "        right=right+1\n",
    "\n",
    "for i in range(0,len(uspsPrediction)):\n",
    "    if(usps_target[i].argmax()==uspsPrediction[i].argmax()):\n",
    "        uright=uright+1        \n",
    "        \n",
    "print ('----------Keras Neural Network MNIST Data Prediction --------------------')\n",
    "print ('UBITname      = APURBAMA')\n",
    "print ('Person Number = 50288705')        \n",
    "print(\"MNIST Testing Accuracy =\" +str(right/len(mnistPredictions)*100)   ) \n",
    "print(\"USPS Testing Accuracy =\" +str(uright/len(uspsPrediction)*100)   ) \n",
    "\n",
    "print ('---------- MNIST Testing Confusion Matrix--------------------')\n",
    "print(confusion_matrix(test_target, np.argmax(mnistPredictions,axis=1)))\n",
    "\n",
    "print ('---------- USPS Testing Confusion Matrix--------------------')\n",
    "print(confusion_matrix(USPS_Target, np.argmax(uspsPrediction,axis=1)))"
   ]
  }
 ],
 "metadata": {
  "kernelspec": {
   "display_name": "Python 3",
   "language": "python",
   "name": "python3"
  },
  "language_info": {
   "codemirror_mode": {
    "name": "ipython",
    "version": 3
   },
   "file_extension": ".py",
   "mimetype": "text/x-python",
   "name": "python",
   "nbconvert_exporter": "python",
   "pygments_lexer": "ipython3",
   "version": "3.6.6"
  }
 },
 "nbformat": 4,
 "nbformat_minor": 2
}
