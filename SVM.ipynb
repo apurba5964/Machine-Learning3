{
 "cells": [
  {
   "cell_type": "markdown",
   "metadata": {},
   "source": [
    "## Load MNIST on Python 3.x"
   ]
  },
  {
   "cell_type": "code",
   "execution_count": 1,
   "metadata": {},
   "outputs": [],
   "source": [
    "import pickle\n",
    "import gzip\n",
    "import numpy as np"
   ]
  },
  {
   "cell_type": "code",
   "execution_count": 2,
   "metadata": {},
   "outputs": [
    {
     "name": "stdout",
     "output_type": "stream",
     "text": [
      "(50000, 784)\n",
      "(10000, 784)\n",
      "(10000, 784)\n",
      "(50000,)\n",
      "(10000,)\n",
      "(10000,)\n"
     ]
    }
   ],
   "source": [
    "filename = 'mnist.pkl.gz'\n",
    "f = gzip.open(filename, 'rb')\n",
    "training_data, validation_data, testing_data = pickle.load(f, encoding='latin1')\n",
    "\n",
    "train_data=np.array(training_data[0])\n",
    "train_target=np.array(training_data[1])\n",
    "valid_data=np.array(validation_data[0])\n",
    "valid_target=np.array(validation_data[1])\n",
    "test_data=np.array(testing_data[0])\n",
    "test_target=np.array(testing_data[1])\n",
    "\n",
    "print(train_data.shape)\n",
    "print(valid_data.shape)\n",
    "print(test_data.shape)\n",
    "\n",
    "print(train_target.shape)\n",
    "print(valid_target.shape)\n",
    "print(test_target.shape)\n",
    "f.close()"
   ]
  },
  {
   "cell_type": "markdown",
   "metadata": {},
   "source": [
    "## Load USPS on Python 3.x"
   ]
  },
  {
   "cell_type": "code",
   "execution_count": 3,
   "metadata": {},
   "outputs": [],
   "source": [
    "from PIL import Image\n",
    "import os\n"
   ]
  },
  {
   "cell_type": "code",
   "execution_count": 4,
   "metadata": {},
   "outputs": [
    {
     "name": "stdout",
     "output_type": "stream",
     "text": [
      "(19999, 784)\n",
      "(19999,)\n"
     ]
    }
   ],
   "source": [
    "USPSMat  = []\n",
    "USPSTar  = []\n",
    "curPath  = 'USPSdata/Numerals'\n",
    "savedImg = []\n",
    "\n",
    "for j in range(0,10):\n",
    "    curFolderPath = curPath + '/' + str(j)\n",
    "    imgs =  os.listdir(curFolderPath)\n",
    "    for img in imgs:\n",
    "        curImg = curFolderPath + '/' + img\n",
    "        if curImg[-3:] == 'png':\n",
    "            img = Image.open(curImg,'r')\n",
    "            img = img.resize((28, 28))\n",
    "            savedImg = img\n",
    "            imgdata = (255-np.array(img.getdata()))/255\n",
    "            USPSMat.append(imgdata)\n",
    "            USPSTar.append(j)\n",
    "print(np.array(USPSMat).shape)\n",
    "print(np.array(USPSTar).shape)\n",
    "USPS_data=np.array(USPSMat)\n",
    "USPS_Target=np.array(USPSTar)"
   ]
  },
  {
   "cell_type": "code",
   "execution_count": 6,
   "metadata": {},
   "outputs": [
    {
     "data": {
      "text/plain": [
       "SVC(C=200, cache_size=200, class_weight=None, coef0=0.0,\n",
       "  decision_function_shape='ovr', degree=3, gamma=0.05, kernel='linear',\n",
       "  max_iter=-1, probability=False, random_state=None, shrinking=True,\n",
       "  tol=0.001, verbose=False)"
      ]
     },
     "execution_count": 6,
     "metadata": {},
     "output_type": "execute_result"
    }
   ],
   "source": [
    "#SVM\n",
    "\n",
    "from sklearn import datasets, svm, metrics\n",
    "\n",
    "classifier = svm.SVC(C=200,kernel='linear',gamma=0.05)\n",
    "classifier.fit(train_data,train_target)\n"
   ]
  },
  {
   "cell_type": "code",
   "execution_count": 7,
   "metadata": {},
   "outputs": [],
   "source": [
    "y_pred_svm = classifier.predict(test_data)"
   ]
  },
  {
   "cell_type": "code",
   "execution_count": 11,
   "metadata": {},
   "outputs": [],
   "source": [
    "usps_pred_svm = classifier.predict(USPS_data)"
   ]
  },
  {
   "cell_type": "code",
   "execution_count": 10,
   "metadata": {},
   "outputs": [
    {
     "name": "stdout",
     "output_type": "stream",
     "text": [
      "UBITname      = APURBAMA\n",
      "Person Number = 50288705\n",
      "--------Linear SVM accuracy------------\n",
      "92.33\n",
      "---------- Confusion Matrix--------------------\n",
      "[[ 954    0    6    1    1    6    8    1    2    1]\n",
      " [   0 1114    2    5    0    1    1    1   11    0]\n",
      " [   8   13  946   13    6    3   12   11   15    5]\n",
      " [   5    5   20  931    1   20    3    7   15    3]\n",
      " [   2    0   14    1  933    0    3    4    1   24]\n",
      " [  15    5    8   44    6  781    7    2   21    3]\n",
      " [  10    5   14    0    8   20  899    0    2    0]\n",
      " [   1    9   21   17   13    0    0  943    4   20]\n",
      " [  13    6   17   32    8   28    9    9  842   10]\n",
      " [   7    6    6   15   42    7    1   25   10  890]]\n"
     ]
    }
   ],
   "source": [
    "from sklearn.metrics import accuracy_score\n",
    "from sklearn.metrics import confusion_matrix\n",
    "\n",
    "accuracy_svm = accuracy_score(test_target, y_pred_svm)\n",
    "\n",
    "print ('UBITname      = APURBAMA')\n",
    "print ('Person Number = 50288705')\n",
    "print(\"--------Linear SVM MNIST accuracy------------\")\n",
    "print(accuracy_svm*100)\n",
    "print ('---------- Confusion Matrix--------------------')\n",
    "print(confusion_matrix(test_target, y_pred_svm))"
   ]
  },
  {
   "cell_type": "code",
   "execution_count": 13,
   "metadata": {},
   "outputs": [
    {
     "name": "stdout",
     "output_type": "stream",
     "text": [
      "--------Linear SVM USPS accuracy------------\n",
      "26.816340817040853\n",
      "---------- Confusion Matrix--------------------\n",
      "[[ 385    2  488  222  232  300   71  169   12  119]\n",
      " [  63  281  560  260  256  159   19  304   57   41]\n",
      " [ 158  103 1154  144   45  234   60   43   44   14]\n",
      " [  72   60  427  749   15  513    6   48   88   22]\n",
      " [  25   27  212  100  826  218   19  433   63   77]\n",
      " [  63   23  686  247   60  746   36   46   77   16]\n",
      " [ 180   19  914   90   81  206  445   36    3   26]\n",
      " [  26   77  198  723   70  301    7  490   73   35]\n",
      " [ 155   24  330  536  115  535   79   75  129   22]\n",
      " [  14   43  218  631  155  110    6  537  128  158]]\n"
     ]
    }
   ],
   "source": [
    "usps_accuracy_svm = accuracy_score(USPS_Target, usps_pred_svm)\n",
    "print(\"--------Linear SVM USPS accuracy------------\")\n",
    "print(usps_accuracy_svm*100)\n",
    "print ('---------- Confusion Matrix--------------------')\n",
    "print(confusion_matrix(USPS_Target, usps_pred_svm))"
   ]
  }
 ],
 "metadata": {
  "kernelspec": {
   "display_name": "Python 3",
   "language": "python",
   "name": "python3"
  },
  "language_info": {
   "codemirror_mode": {
    "name": "ipython",
    "version": 3
   },
   "file_extension": ".py",
   "mimetype": "text/x-python",
   "name": "python",
   "nbconvert_exporter": "python",
   "pygments_lexer": "ipython3",
   "version": "3.6.6"
  }
 },
 "nbformat": 4,
 "nbformat_minor": 2
}
