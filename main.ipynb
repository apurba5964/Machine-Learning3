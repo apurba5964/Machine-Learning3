{
 "cells": [
  {
   "cell_type": "markdown",
   "metadata": {},
   "source": [
    "## Load MNIST on Python 3.x"
   ]
  },
  {
   "cell_type": "code",
   "execution_count": 1,
   "metadata": {},
   "outputs": [],
   "source": [
    "import pickle\n",
    "import gzip\n",
    "import numpy as np\n",
    "from sklearn.metrics import accuracy_score\n",
    "from sklearn.metrics import confusion_matrix"
   ]
  },
  {
   "cell_type": "code",
   "execution_count": 2,
   "metadata": {},
   "outputs": [
    {
     "name": "stdout",
     "output_type": "stream",
     "text": [
      "(50000, 784)\n",
      "(10000, 784)\n",
      "(10000, 784)\n",
      "(50000,)\n",
      "(10000,)\n",
      "(10000,)\n"
     ]
    }
   ],
   "source": [
    "filename = 'mnist.pkl.gz'\n",
    "f = gzip.open(filename, 'rb')\n",
    "training_data, validation_data, testing_data = pickle.load(f, encoding='latin1')\n",
    "\n",
    "train_data=np.array(training_data[0])\n",
    "train_target=np.array(training_data[1])\n",
    "valid_data=np.array(validation_data[0])\n",
    "valid_target=np.array(validation_data[1])\n",
    "test_data=np.array(testing_data[0])\n",
    "test_target=np.array(testing_data[1])\n",
    "\n",
    "print(train_data.shape)\n",
    "print(valid_data.shape)\n",
    "print(test_data.shape)\n",
    "\n",
    "print(train_target.shape)\n",
    "print(valid_target.shape)\n",
    "print(test_target.shape)\n",
    "f.close()"
   ]
  },
  {
   "cell_type": "markdown",
   "metadata": {},
   "source": [
    "## Load USPS on Python 3.x"
   ]
  },
  {
   "cell_type": "code",
   "execution_count": 3,
   "metadata": {},
   "outputs": [],
   "source": [
    "from PIL import Image\n",
    "import os\n"
   ]
  },
  {
   "cell_type": "code",
   "execution_count": 4,
   "metadata": {},
   "outputs": [
    {
     "name": "stdout",
     "output_type": "stream",
     "text": [
      "(19999, 784)\n",
      "(19999,)\n"
     ]
    }
   ],
   "source": [
    "USPSMat  = []\n",
    "USPSTar  = []\n",
    "curPath  = 'USPSdata/Numerals'\n",
    "savedImg = []\n",
    "\n",
    "for j in range(0,10):\n",
    "    curFolderPath = curPath + '/' + str(j)\n",
    "    imgs =  os.listdir(curFolderPath)\n",
    "    for img in imgs:\n",
    "        curImg = curFolderPath + '/' + img\n",
    "        if curImg[-3:] == 'png':\n",
    "            img = Image.open(curImg,'r')\n",
    "            img = img.resize((28, 28))\n",
    "            savedImg = img\n",
    "            imgdata = (255-np.array(img.getdata()))/255\n",
    "            USPSMat.append(imgdata)\n",
    "            USPSTar.append(j)\n",
    "print(np.array(USPSMat).shape)\n",
    "print(np.array(USPSTar).shape)\n",
    "USPS_data=np.array(USPSMat)\n",
    "USPS_Target=np.array(USPSTar)"
   ]
  },
  {
   "cell_type": "markdown",
   "metadata": {},
   "source": [
    "# Softmax Logistic Regression"
   ]
  },
  {
   "cell_type": "code",
   "execution_count": 54,
   "metadata": {},
   "outputs": [],
   "source": [
    "#Softmax function\n",
    "\n",
    "def softmax(t):\n",
    "    probability_matrix = []\n",
    "    for i in range(len(t)):\n",
    "        probability_vector = []\n",
    "        sum_exp = 0\n",
    "        for j in t[i]:\n",
    "            sum_exp += np.exp(j)\n",
    "        for k in t[i]:\n",
    "            probability_vector.append(float(np.exp(k))/sum_exp)\n",
    "        probability_matrix.append(probability_vector)\n",
    "    return np.array(probability_matrix)"
   ]
  },
  {
   "cell_type": "code",
   "execution_count": null,
   "metadata": {},
   "outputs": [],
   "source": []
  },
  {
   "cell_type": "code",
   "execution_count": 6,
   "metadata": {},
   "outputs": [],
   "source": [
    "#One Hot Encoding\n",
    "import scipy.sparse\n",
    "def oneHotEncoding(Y):\n",
    "    m = Y.shape[0]\n",
    "\n",
    "    oneHot = scipy.sparse.csr_matrix((np.ones(m), (Y, np.array(range(m)))))\n",
    "    oneHot = np.array(oneHot.todense()).T\n",
    "    return oneHot\n",
    "   "
   ]
  },
  {
   "cell_type": "code",
   "execution_count": 7,
   "metadata": {},
   "outputs": [
    {
     "name": "stdout",
     "output_type": "stream",
     "text": [
      "(50000, 10)\n",
      "(10000, 10)\n",
      "(10000, 10)\n",
      "50000\n"
     ]
    }
   ],
   "source": [
    "oneHotTestTarget=oneHotEncoding(test_target)\n",
    "oneHotValidTarget=oneHotEncoding(valid_target)\n",
    "oneHotTrainTarget=oneHotEncoding(train_target)\n",
    "print(oneHotTrainTarget.shape)\n",
    "print(oneHotValidTarget.shape)\n",
    "print(oneHotTestTarget.shape)\n",
    "print(train_data.shape[0])"
   ]
  },
  {
   "cell_type": "code",
   "execution_count": 42,
   "metadata": {},
   "outputs": [],
   "source": [
    "\n",
    "def add_bias(data):\n",
    "    data=np.hstack((np.zeros(shape=(data.shape[0],1), dtype='float') + 1, data))\n",
    "    return data\n",
    "\n",
    "\n",
    "def getGradientandLoss(w,x,y,lamda,bias):\n",
    "    m = x.shape[0] # number of training examples\n",
    "    y_mat = oneHotEncoding(y) #integer class coding into a one-hot representation\n",
    "    x=add_bias(x) #adding bias to the dataset\n",
    "    z = np.dot(x,w)\n",
    "    \n",
    "    #print(z[10000])\n",
    "    \n",
    "    #perform a softmax to get their probabilities\n",
    "    prob = softmax(z)\n",
    "    #print(prob.shape)\n",
    "    loss = (-1 / m) * np.sum(y_mat * np.log(prob)) + (lamda/2)*np.sum(w*w) #We then find the loss of the probabilities\n",
    "    grad = (-1 / m) * np.dot(x.T,(y_mat - prob)) + lamda*w #compute the gradient for that loss\n",
    "    return loss,grad"
   ]
  },
  {
   "cell_type": "code",
   "execution_count": 9,
   "metadata": {},
   "outputs": [
    {
     "name": "stdout",
     "output_type": "stream",
     "text": [
      "784\n",
      "10\n"
     ]
    }
   ],
   "source": [
    "def getPrediction(data):\n",
    "    prob = softmax(np.dot(data,w))\n",
    "    pred = np.argmax(prob,axis=1)\n",
    "    return prob,pred\n",
    "\n",
    "print(train_data.shape[1])\n",
    "print(len(np.unique(train_target)))"
   ]
  },
  {
   "cell_type": "code",
   "execution_count": 55,
   "metadata": {},
   "outputs": [
    {
     "name": "stdout",
     "output_type": "stream",
     "text": [
      "0.4626749604042896\n"
     ]
    }
   ],
   "source": [
    "#Mini-batch stochastic gradient descent\n",
    "\n",
    "batch_size=100\n",
    "no_of_batches=500\n",
    "w = np.zeros([train_data.shape[1]+1,len(np.unique(train_target))])\n",
    "b = np.zeros([batch_size,len(np.unique(train_target))])\n",
    "train_data_batched=np.split(train_data, no_of_batches)\n",
    "train_target_batched=np.split(train_target, no_of_batches)\n",
    "lamda = 0.0001#10\n",
    "epochs = 100#\n",
    "learningRate = 1e-3\n",
    "losses = []\n",
    "for i in range(0,epochs):\n",
    "    for j in range(0,no_of_batches):\n",
    "        train_data_b=train_data_batched[j]\n",
    "        train_target_b=train_target_batched[j]\n",
    "        loss,grad = getGradientandLoss(w,train_data_b,train_target_b,lamda,b)\n",
    "        losses.append(loss)\n",
    "        w = w - (learningRate * grad)\n",
    "    \n",
    "print(loss)"
   ]
  },
  {
   "cell_type": "code",
   "execution_count": 56,
   "metadata": {},
   "outputs": [
    {
     "data": {
      "text/plain": [
       "[<matplotlib.lines.Line2D at 0x1a36713198>]"
      ]
     },
     "execution_count": 56,
     "metadata": {},
     "output_type": "execute_result"
    },
    {
     "data": {
      "image/png": "[encoded data removed]",
      "text/plain": [
       "<Figure size 432x288 with 1 Axes>"
      ]
     },
     "metadata": {},
     "output_type": "display_data"
    }
   ],
   "source": [
    "import matplotlib.pyplot as plt\n",
    "plt.plot(losses)"
   ]
  },
  {
   "cell_type": "code",
   "execution_count": null,
   "metadata": {},
   "outputs": [],
   "source": []
  },
  {
   "cell_type": "code",
   "execution_count": 46,
   "metadata": {},
   "outputs": [],
   "source": [
    "from sklearn.metrics import confusion_matrix\n",
    "def getAccuracy(data,target):\n",
    "    probability,prede = getPrediction(data)\n",
    "    \n",
    "    \n",
    "    accuracy = sum(prede == target)/(float(len(target)))\n",
    "    return prede,accuracy"
   ]
  },
  {
   "cell_type": "code",
   "execution_count": 57,
   "metadata": {},
   "outputs": [],
   "source": [
    "training_pred,training_acc=getAccuracy(add_bias(train_data),train_target)\n",
    "valid_pred,valid_acc=getAccuracy(add_bias(valid_data),valid_target)\n",
    "softmaxMNISTPred,softmaxMNISTAcc = getAccuracy(add_bias(test_data),test_target)\n",
    "softmaxUSPSPred,softmaxUSPSAcc = getAccuracy(add_bias(USPS_data),USPS_Target)\n"
   ]
  },
  {
   "cell_type": "code",
   "execution_count": 58,
   "metadata": {},
   "outputs": [
    {
     "name": "stdout",
     "output_type": "stream",
     "text": [
      "----------Softmax Logistic Regression --------------------\n",
      "----------Mini Batch Stochastic Gradient Descent --------------------\n",
      "UBITname      = APURBAMA\n",
      "Person Number = 50288705\n",
      "Training Accuracy 89.32\n",
      "Validation Accuracy 90.52\n",
      "---------- MNIST Confusion Matrix--------------------\n",
      "[[ 957    0    3    3    0    2    8    1    6    0]\n",
      " [   0 1103    2    4    1    2    4    0   19    0]\n",
      " [  11    6  891   18   16    0   17   22   42    9]\n",
      " [   6    1   18  898    1   31    6   15   22   12]\n",
      " [   2    6    5    0  901    1   10    2    8   47]\n",
      " [  15    6    4   43   15  733   17   10   38   11]\n",
      " [  16    3    6    2   13   15  897    1    5    0]\n",
      " [   3   20   28    4   11    0    0  918    4   40]\n",
      " [   9   10   10   29    7   26   13   14  840   16]\n",
      " [  13    8    6   10   44   16    0   23    7  882]]\n",
      "Testing MNIST Accuracy 90.2\n",
      "---------- USPS Confusion Matrix--------------------\n",
      "[[ 593    4  372   53  272  131  102   44  123  306]\n",
      " [ 227  329  138  342  280   65   44  328  231   16]\n",
      " [ 204   26 1178  135   69   96   93  100   74   24]\n",
      " [ 107    4  119 1256   26  256   28   61   83   60]\n",
      " [  59   88   37   59 1048  141   40  134  258  136]\n",
      " [ 167   20  212  163   47 1091  124   75   69   32]\n",
      " [ 350   14  349  102  104  263  700   27   59   32]\n",
      " [ 179  228  346  428   73  114   35  320  229   48]\n",
      " [ 208   30  146  202  134  630  115   46  407   82]\n",
      " [  49  192  171  456  159   99   15  371  319  169]]\n",
      "Testing USPS Accuracy 35.45677283864193\n"
     ]
    }
   ],
   "source": [
    "print ('----------Softmax Logistic Regression --------------------')\n",
    "print ('----------Mini Batch Stochastic Gradient Descent --------------------')\n",
    "print ('UBITname      = APURBAMA')\n",
    "print ('Person Number = 50288705')\n",
    "\n",
    "print(\"Training Accuracy \"+ str(training_acc*100))\n",
    "print(\"Validation Accuracy \"+ str(valid_acc*100))\n",
    "print ('---------- MNIST Confusion Matrix--------------------')\n",
    "print(confusion_matrix(test_target, softmaxMNISTPred))\n",
    "print(\"Testing MNIST Accuracy \"+ str(softmaxMNISTAcc*100))\n",
    "print ('---------- USPS Confusion Matrix--------------------')\n",
    "print(confusion_matrix(USPS_Target, softmaxUSPSPred))\n",
    "print(\"Testing USPS Accuracy \"+ str(softmaxUSPSAcc*100))"
   ]
  },
  {
   "cell_type": "markdown",
   "metadata": {},
   "source": [
    "# Neural Network Implementation\n"
   ]
  },
  {
   "cell_type": "code",
   "execution_count": 15,
   "metadata": {},
   "outputs": [
    {
     "name": "stderr",
     "output_type": "stream",
     "text": [
      "Using TensorFlow backend.\n"
     ]
    }
   ],
   "source": [
    "from sklearn.metrics import accuracy_score\n",
    "from keras.utils import np_utils\n",
    "from keras.models import Sequential\n",
    "from keras.layers import Dense, Activation, Dropout\n",
    "from keras.layers.advanced_activations import LeakyReLU\n",
    "from keras.utils.vis_utils import plot_model\n",
    "from keras.callbacks import EarlyStopping, TensorBoard"
   ]
  },
  {
   "cell_type": "code",
   "execution_count": 16,
   "metadata": {},
   "outputs": [
    {
     "name": "stdout",
     "output_type": "stream",
     "text": [
      "_________________________________________________________________\n",
      "Layer (type)                 Output Shape              Param #   \n",
      "=================================================================\n",
      "dense_1 (Dense)              (None, 128)               100480    \n",
      "_________________________________________________________________\n",
      "activation_1 (Activation)    (None, 128)               0         \n",
      "_________________________________________________________________\n",
      "dropout_1 (Dropout)          (None, 128)               0         \n",
      "_________________________________________________________________\n",
      "dense_2 (Dense)              (None, 64)                8256      \n",
      "_________________________________________________________________\n",
      "activation_2 (Activation)    (None, 64)                0         \n",
      "_________________________________________________________________\n",
      "dropout_2 (Dropout)          (None, 64)                0         \n",
      "_________________________________________________________________\n",
      "dense_3 (Dense)              (None, 10)                650       \n",
      "_________________________________________________________________\n",
      "activation_3 (Activation)    (None, 10)                0         \n",
      "=================================================================\n",
      "Total params: 109,386\n",
      "Trainable params: 109,386\n",
      "Non-trainable params: 0\n",
      "_________________________________________________________________\n"
     ]
    }
   ],
   "source": [
    "def genMNISTModel(RawData):\n",
    "    input_size = RawData.shape[1]\n",
    "    drop_out = 0.2\n",
    "    first_dense_layer_nodes  = 128 \n",
    "    second_dense_layer_nodes = 64\n",
    "    \n",
    "    third_dense_layer_nodes = 10\n",
    "\n",
    "\n",
    "    model = Sequential()\n",
    "    model.add(Dense(first_dense_layer_nodes, input_dim=input_size))\n",
    "    model.add(Activation('relu'))\n",
    "    model.add(Dropout(drop_out))\n",
    "\n",
    "\n",
    "\n",
    "    model.add(Dense(second_dense_layer_nodes, input_dim=input_size))\n",
    "    model.add(Activation('relu'))\n",
    "\n",
    "    model.add(Dropout(drop_out))\n",
    "\n",
    "    model.add(Dense(third_dense_layer_nodes))\n",
    "    model.add(Activation('softmax'))\n",
    "\n",
    "\n",
    "    model.compile(optimizer='adam',\n",
    "                  loss='categorical_crossentropy',\n",
    "                  metrics=['accuracy'])\n",
    "\n",
    "    model.summary()\n",
    "    return model\n",
    "MNISTmodel=genMNISTModel(train_data)\n"
   ]
  },
  {
   "cell_type": "code",
   "execution_count": 17,
   "metadata": {},
   "outputs": [
    {
     "name": "stdout",
     "output_type": "stream",
     "text": [
      "Train on 50000 samples, validate on 10000 samples\n",
      "Epoch 1/50\n",
      "50000/50000 [==============================] - 20s 410us/step - loss: 0.4750 - acc: 0.8550 - val_loss: 0.1719 - val_acc: 0.9516\n",
      "Epoch 2/50\n",
      "50000/50000 [==============================] - 23s 467us/step - loss: 0.2096 - acc: 0.9389 - val_loss: 0.1212 - val_acc: 0.9643\n",
      "Epoch 3/50\n",
      "50000/50000 [==============================] - 25s 500us/step - loss: 0.1585 - acc: 0.9534 - val_loss: 0.1012 - val_acc: 0.9702\n",
      "Epoch 4/50\n",
      "50000/50000 [==============================] - 23s 453us/step - loss: 0.1322 - acc: 0.9600 - val_loss: 0.0929 - val_acc: 0.9722\n",
      "Epoch 5/50\n",
      "50000/50000 [==============================] - 20s 408us/step - loss: 0.1111 - acc: 0.9666 - val_loss: 0.0803 - val_acc: 0.9738\n",
      "Epoch 6/50\n",
      "50000/50000 [==============================] - 22s 434us/step - loss: 0.0980 - acc: 0.9695 - val_loss: 0.0812 - val_acc: 0.9752\n",
      "Epoch 7/50\n",
      "50000/50000 [==============================] - 24s 478us/step - loss: 0.0872 - acc: 0.9729 - val_loss: 0.0818 - val_acc: 0.9747\n",
      "Epoch 8/50\n",
      "50000/50000 [==============================] - 22s 448us/step - loss: 0.0812 - acc: 0.9749 - val_loss: 0.0790 - val_acc: 0.9766\n",
      "Epoch 9/50\n",
      "50000/50000 [==============================] - 22s 432us/step - loss: 0.0734 - acc: 0.9767 - val_loss: 0.0803 - val_acc: 0.9767\n",
      "Epoch 10/50\n",
      "50000/50000 [==============================] - 25s 496us/step - loss: 0.0660 - acc: 0.9795 - val_loss: 0.0739 - val_acc: 0.9789\n",
      "Epoch 11/50\n",
      "50000/50000 [==============================] - 27s 541us/step - loss: 0.0632 - acc: 0.9800 - val_loss: 0.0805 - val_acc: 0.9775\n",
      "Epoch 12/50\n",
      "50000/50000 [==============================] - 23s 460us/step - loss: 0.0583 - acc: 0.9811 - val_loss: 0.0765 - val_acc: 0.9780\n",
      "Epoch 13/50\n",
      "50000/50000 [==============================] - 21s 430us/step - loss: 0.0548 - acc: 0.9821 - val_loss: 0.0792 - val_acc: 0.9776\n",
      "Epoch 14/50\n",
      "50000/50000 [==============================] - 22s 436us/step - loss: 0.0535 - acc: 0.9824 - val_loss: 0.0768 - val_acc: 0.9785\n",
      "Epoch 15/50\n",
      "50000/50000 [==============================] - 23s 462us/step - loss: 0.0511 - acc: 0.9835 - val_loss: 0.0781 - val_acc: 0.9780\n",
      "Epoch 16/50\n",
      "50000/50000 [==============================] - 24s 490us/step - loss: 0.0436 - acc: 0.9857 - val_loss: 0.0775 - val_acc: 0.9800\n",
      "Epoch 17/50\n",
      "50000/50000 [==============================] - 22s 447us/step - loss: 0.0444 - acc: 0.9855 - val_loss: 0.0799 - val_acc: 0.9780\n",
      "Epoch 18/50\n",
      "50000/50000 [==============================] - 24s 482us/step - loss: 0.0431 - acc: 0.9856 - val_loss: 0.0770 - val_acc: 0.9797\n",
      "Epoch 19/50\n",
      "50000/50000 [==============================] - 22s 440us/step - loss: 0.0418 - acc: 0.9866 - val_loss: 0.0756 - val_acc: 0.9800\n",
      "Epoch 20/50\n",
      "50000/50000 [==============================] - 20s 400us/step - loss: 0.0411 - acc: 0.9868 - val_loss: 0.0850 - val_acc: 0.9792\n",
      "Epoch 21/50\n",
      "50000/50000 [==============================] - 20s 403us/step - loss: 0.0389 - acc: 0.9870 - val_loss: 0.0800 - val_acc: 0.9799\n",
      "Epoch 22/50\n",
      "50000/50000 [==============================] - 23s 452us/step - loss: 0.0362 - acc: 0.9884 - val_loss: 0.0945 - val_acc: 0.9780\n",
      "Epoch 23/50\n",
      "50000/50000 [==============================] - 24s 480us/step - loss: 0.0344 - acc: 0.9888 - val_loss: 0.0865 - val_acc: 0.9792\n",
      "Epoch 24/50\n",
      "50000/50000 [==============================] - 24s 477us/step - loss: 0.0360 - acc: 0.9879 - val_loss: 0.0792 - val_acc: 0.9794\n",
      "Epoch 25/50\n",
      "50000/50000 [==============================] - 27s 533us/step - loss: 0.0334 - acc: 0.9884 - val_loss: 0.0879 - val_acc: 0.9786\n",
      "Epoch 26/50\n",
      "50000/50000 [==============================] - 23s 450us/step - loss: 0.0346 - acc: 0.9887 - val_loss: 0.0850 - val_acc: 0.9801\n",
      "Epoch 27/50\n",
      "50000/50000 [==============================] - 22s 441us/step - loss: 0.0322 - acc: 0.9893 - val_loss: 0.0819 - val_acc: 0.9795\n",
      "Epoch 28/50\n",
      "50000/50000 [==============================] - 22s 442us/step - loss: 0.0298 - acc: 0.9899 - val_loss: 0.0787 - val_acc: 0.9804\n",
      "Epoch 29/50\n",
      "50000/50000 [==============================] - 25s 501us/step - loss: 0.0304 - acc: 0.9900 - val_loss: 0.0787 - val_acc: 0.9804\n",
      "Epoch 30/50\n",
      "50000/50000 [==============================] - 28s 561us/step - loss: 0.0311 - acc: 0.9898 - val_loss: 0.0882 - val_acc: 0.9791\n",
      "Epoch 31/50\n",
      "50000/50000 [==============================] - 22s 442us/step - loss: 0.0262 - acc: 0.9913 - val_loss: 0.0911 - val_acc: 0.9802\n",
      "Epoch 32/50\n",
      "50000/50000 [==============================] - 25s 495us/step - loss: 0.0279 - acc: 0.9907 - val_loss: 0.0849 - val_acc: 0.9790\n",
      "Epoch 33/50\n",
      "50000/50000 [==============================] - 24s 485us/step - loss: 0.0292 - acc: 0.9905 - val_loss: 0.0839 - val_acc: 0.9792\n",
      "Epoch 34/50\n",
      "50000/50000 [==============================] - 21s 417us/step - loss: 0.0270 - acc: 0.9908 - val_loss: 0.0803 - val_acc: 0.9810\n",
      "Epoch 35/50\n",
      "50000/50000 [==============================] - 23s 454us/step - loss: 0.0267 - acc: 0.9909 - val_loss: 0.0853 - val_acc: 0.9801\n",
      "Epoch 00035: early stopping\n"
     ]
    }
   ],
   "source": [
    "from keras.utils import np_utils\n",
    "def runMNISTModel(train_data,train_target,model):\n",
    "    \n",
    "    validation_data_split = 0.2 # This is the validation data split ratio from the training set .This means last 20% of\n",
    "# data will be used as the validation set.\n",
    "    num_epochs = 50 # epochs are the number of datasets given to the model to learn.Changing to 1000 for 3 dense layers\n",
    "# as accuracy is reaching 0.99 in the first 200 epochs only   \n",
    "    model_batch_size = 100 # No of training examples used per iteration\n",
    "    tb_batch_size = 32 # batch_size used in callback functions to get the statistics of the model that is getting trained\n",
    "    early_patience = 25 # no of epochs with no improvement after which training is stopped\n",
    "\n",
    "# EarlyStopping is used to stop the training when a monitored value stops improving.\n",
    "    tensorboard_cb   = TensorBoard(log_dir='logs', batch_size= tb_batch_size, write_graph= True)\n",
    "    earlystopping_cb = EarlyStopping(monitor='val_loss', verbose=1, patience=early_patience, mode='min')\n",
    "\n",
    "    TrainingData = train_data\n",
    "    TrainingTarget = train_target\n",
    "    TargetVector = np_utils.to_categorical(TrainingTarget,10)\n",
    "    #print(TrainingData)\n",
    "    history = model.fit(TrainingData\n",
    "                    , TargetVector\n",
    "                    , validation_data=(valid_data,np_utils.to_categorical(valid_target,10))\n",
    "                    , epochs=num_epochs\n",
    "                    , batch_size=model_batch_size\n",
    "                    , callbacks = [tensorboard_cb,earlystopping_cb]\n",
    "                   )\n",
    "    return history\n",
    "\n",
    "history=runMNISTModel(train_data,train_target,MNISTmodel)\n"
   ]
  },
  {
   "cell_type": "code",
   "execution_count": 18,
   "metadata": {},
   "outputs": [
    {
     "data": {
      "text/plain": [
       "array([<matplotlib.axes._subplots.AxesSubplot object at 0x1a43be5e48>,\n",
       "       <matplotlib.axes._subplots.AxesSubplot object at 0x1a3c4b74e0>,\n",
       "       <matplotlib.axes._subplots.AxesSubplot object at 0x1a3c2d86a0>,\n",
       "       <matplotlib.axes._subplots.AxesSubplot object at 0x1a3c5f0860>],\n",
       "      dtype=object)"
      ]
     },
     "execution_count": 18,
     "metadata": {},
     "output_type": "execute_result"
    },
    {
     "data": {
      "image/png": "[encoded data removed]",
      "text/plain": [
       "<Figure size 720x1080 with 4 Axes>"
      ]
     },
     "metadata": {},
     "output_type": "display_data"
    }
   ],
   "source": [
    "import pandas as pd\n",
    "%matplotlib inline\n",
    "df = pd.DataFrame(history.history)\n",
    "df.plot(subplots=True, grid=True, figsize=(10,15))"
   ]
  },
  {
   "cell_type": "code",
   "execution_count": 19,
   "metadata": {},
   "outputs": [],
   "source": [
    "mnistNNPredictions = np.argmax(MNISTmodel.predict(test_data),axis=1)\n",
    "uspsNNPredictions = np.argmax(MNISTmodel.predict(USPS_data),axis=1)\n"
   ]
  },
  {
   "cell_type": "code",
   "execution_count": 20,
   "metadata": {},
   "outputs": [
    {
     "name": "stdout",
     "output_type": "stream",
     "text": [
      "----------Keras Neural Network MNIST Data Prediction --------------------\n",
      "UBITname      = APURBAMA\n",
      "Person Number = 50288705\n",
      "MNIST Testing Accuracy =98.15\n",
      "USPS Testing Accuracy =45.862293114655735\n",
      "---------- MNIST Testing Confusion Matrix--------------------\n",
      "[[ 971    1    0    2    0    1    3    1    1    0]\n",
      " [   0 1128    2    1    0    0    3    0    1    0]\n",
      " [   2    0 1017    3    1    0    1    4    3    1]\n",
      " [   0    0    4  997    0    2    0    4    3    0]\n",
      " [   0    0    1    0  966    0    3    2    2    8]\n",
      " [   2    0    0   13    0  866    4    1    4    2]\n",
      " [   3    2    1    0    2    4  943    0    3    0]\n",
      " [   2    5    8    3    0    0    0 1005    0    5]\n",
      " [   0    1    4   12    3    3    0    5  942    4]\n",
      " [   1    2    0    7   10    2    0    7    0  980]]\n",
      "---------- USPS Testing Confusion Matrix--------------------\n",
      "[[ 455    9   97   58   80  428  258  252   33  330]\n",
      " [  10  433  562  106  185  103   17  444   59   81]\n",
      " [  15   13 1596   82   11  135   75   42   25    5]\n",
      " [   3   15  172 1573    4  169   14   19   14   17]\n",
      " [   6  104   78   41  997  171   40  413   84   66]\n",
      " [  16   14  210  180    3 1423   55   48   35   16]\n",
      " [  59   18  428   25   37  209 1020   86   22   96]\n",
      " [  11  144  271  519   40   48   21  841   74   31]\n",
      " [ 119   30  186  386   58  339  147  174  498   63]\n",
      " [   5   93  114  324  100   45   10  809  164  336]]\n"
     ]
    }
   ],
   "source": [
    "from sklearn.metrics import confusion_matrix\n",
    "right   = 0\n",
    "uright = 0 \n",
    "mnistPredictions = MNISTmodel.predict(test_data)\n",
    "mnist_target = np_utils.to_categorical(test_target, 10)\n",
    "\n",
    "uspsPrediction = MNISTmodel.predict(USPS_data)\n",
    "usps_target = np_utils.to_categorical(USPS_Target, 10)\n",
    "\n",
    "for i in range(0,len(mnistPredictions)):\n",
    "    if(mnist_target[i].argmax()==mnistPredictions[i].argmax()):\n",
    "        right=right+1\n",
    "\n",
    "for i in range(0,len(uspsPrediction)):\n",
    "    if(usps_target[i].argmax()==uspsPrediction[i].argmax()):\n",
    "        uright=uright+1        \n",
    "        \n",
    "print ('----------Keras Neural Network MNIST Data Prediction --------------------')\n",
    "print ('UBITname      = APURBAMA')\n",
    "print ('Person Number = 50288705')        \n",
    "print(\"MNIST Testing Accuracy =\" +str(right/len(mnistPredictions)*100)   ) \n",
    "print(\"USPS Testing Accuracy =\" +str(uright/len(uspsPrediction)*100)   ) \n",
    "\n",
    "print ('---------- MNIST Testing Confusion Matrix--------------------')\n",
    "print(confusion_matrix(test_target, np.argmax(mnistPredictions,axis=1)))\n",
    "\n",
    "print ('---------- USPS Testing Confusion Matrix--------------------')\n",
    "print(confusion_matrix(USPS_Target, np.argmax(uspsPrediction,axis=1)))"
   ]
  },
  {
   "cell_type": "markdown",
   "metadata": {},
   "source": [
    "# SVM CLassifier Implementation\n"
   ]
  },
  {
   "cell_type": "code",
   "execution_count": 21,
   "metadata": {},
   "outputs": [
    {
     "data": {
      "text/plain": [
       "SVC(C=200, cache_size=200, class_weight=None, coef0=0.0,\n",
       "  decision_function_shape='ovr', degree=3, gamma=0.05, kernel='linear',\n",
       "  max_iter=-1, probability=False, random_state=None, shrinking=True,\n",
       "  tol=0.001, verbose=False)"
      ]
     },
     "execution_count": 21,
     "metadata": {},
     "output_type": "execute_result"
    }
   ],
   "source": [
    "from sklearn import datasets, svm, metrics\n",
    "\n",
    "classifier = svm.SVC(C=200,kernel='linear',gamma=0.05)\n",
    "classifier.fit(train_data,train_target)"
   ]
  },
  {
   "cell_type": "code",
   "execution_count": 22,
   "metadata": {},
   "outputs": [],
   "source": [
    "mnist_pred_svm = classifier.predict(test_data)\n",
    "usps_pred_svm = classifier.predict(USPS_data)"
   ]
  },
  {
   "cell_type": "code",
   "execution_count": 23,
   "metadata": {},
   "outputs": [
    {
     "name": "stdout",
     "output_type": "stream",
     "text": [
      "UBITname      = APURBAMA\n",
      "Person Number = 50288705\n",
      "--------Linear SVM MNIST accuracy------------\n",
      "92.33\n",
      "---------- Confusion Matrix--------------------\n",
      "[[ 954    0    6    1    1    6    8    1    2    1]\n",
      " [   0 1114    2    5    0    1    1    1   11    0]\n",
      " [   8   13  946   13    6    3   12   11   15    5]\n",
      " [   5    5   20  931    1   20    3    7   15    3]\n",
      " [   2    0   14    1  933    0    3    4    1   24]\n",
      " [  15    5    8   44    6  781    7    2   21    3]\n",
      " [  10    5   14    0    8   20  899    0    2    0]\n",
      " [   1    9   21   17   13    0    0  943    4   20]\n",
      " [  13    6   17   32    8   28    9    9  842   10]\n",
      " [   7    6    6   15   42    7    1   25   10  890]]\n"
     ]
    }
   ],
   "source": [
    "\n",
    "\n",
    "accuracy_svm = accuracy_score(test_target, mnist_pred_svm)\n",
    "\n",
    "print ('UBITname      = APURBAMA')\n",
    "print ('Person Number = 50288705')\n",
    "print(\"--------Linear SVM MNIST accuracy------------\")\n",
    "print(accuracy_svm*100)\n",
    "print ('---------- Confusion Matrix--------------------')\n",
    "print(confusion_matrix(test_target, mnist_pred_svm))\n"
   ]
  },
  {
   "cell_type": "code",
   "execution_count": 24,
   "metadata": {},
   "outputs": [
    {
     "name": "stdout",
     "output_type": "stream",
     "text": [
      "--------Linear SVM USPS accuracy------------\n",
      "26.816340817040853\n",
      "---------- Confusion Matrix--------------------\n",
      "[[ 385    2  488  222  232  300   71  169   12  119]\n",
      " [  63  281  560  260  256  159   19  304   57   41]\n",
      " [ 158  103 1154  144   45  234   60   43   44   14]\n",
      " [  72   60  427  749   15  513    6   48   88   22]\n",
      " [  25   27  212  100  826  218   19  433   63   77]\n",
      " [  63   23  686  247   60  746   36   46   77   16]\n",
      " [ 180   19  914   90   81  206  445   36    3   26]\n",
      " [  26   77  198  723   70  301    7  490   73   35]\n",
      " [ 155   24  330  536  115  535   79   75  129   22]\n",
      " [  14   43  218  631  155  110    6  537  128  158]]\n"
     ]
    }
   ],
   "source": [
    "usps_accuracy_svm = accuracy_score(USPS_Target, usps_pred_svm)\n",
    "print(\"--------Linear SVM USPS accuracy------------\")\n",
    "print(usps_accuracy_svm*100)\n",
    "print ('---------- Confusion Matrix--------------------')\n",
    "print(confusion_matrix(USPS_Target, usps_pred_svm))"
   ]
  },
  {
   "cell_type": "markdown",
   "metadata": {},
   "source": [
    "# Random Forest Classifier"
   ]
  },
  {
   "cell_type": "code",
   "execution_count": 25,
   "metadata": {},
   "outputs": [],
   "source": [
    "\n",
    "from sklearn.ensemble import RandomForestClassifier\n",
    "\n",
    "\n",
    "randomforestClassify = RandomForestClassifier(n_jobs=-1, n_estimators=500)"
   ]
  },
  {
   "cell_type": "code",
   "execution_count": 26,
   "metadata": {},
   "outputs": [
    {
     "data": {
      "text/plain": [
       "RandomForestClassifier(bootstrap=True, class_weight=None, criterion='gini',\n",
       "            max_depth=None, max_features='auto', max_leaf_nodes=None,\n",
       "            min_impurity_decrease=0.0, min_impurity_split=None,\n",
       "            min_samples_leaf=1, min_samples_split=2,\n",
       "            min_weight_fraction_leaf=0.0, n_estimators=500, n_jobs=-1,\n",
       "            oob_score=False, random_state=None, verbose=0,\n",
       "            warm_start=False)"
      ]
     },
     "execution_count": 26,
     "metadata": {},
     "output_type": "execute_result"
    }
   ],
   "source": [
    "randomforestClassify.fit(train_data,train_target)"
   ]
  },
  {
   "cell_type": "code",
   "execution_count": 27,
   "metadata": {},
   "outputs": [],
   "source": [
    "mnist_pred_forest = randomforestClassify.predict(test_data)\n",
    "usps_pred_forest = randomforestClassify.predict(USPS_data)\n"
   ]
  },
  {
   "cell_type": "code",
   "execution_count": 28,
   "metadata": {},
   "outputs": [
    {
     "name": "stdout",
     "output_type": "stream",
     "text": [
      "UBITname      = APURBAMA\n",
      "Person Number = 50288705\n",
      "--------Random Forest MNIST accuracy------------\n",
      "97.1\n",
      "---------- Confusion Matrix--------------------\n",
      "[[ 969    0    0    0    0    2    4    1    3    1]\n",
      " [   0 1122    3    3    0    2    2    0    2    1]\n",
      " [   6    0 1001    6    2    0    3    8    6    0]\n",
      " [   0    0    9  976    0    6    0    9    8    2]\n",
      " [   1    0    1    0  957    0    5    0    2   16]\n",
      " [   2    0    0    9    3  863    6    2    5    2]\n",
      " [   6    3    0    0    3    3  940    0    3    0]\n",
      " [   1    4   19    1    1    0    0  992    2    8]\n",
      " [   5    0    6    7    3    5    4    3  930   11]\n",
      " [   5    5    2   11   12    3    1    5    5  960]]\n"
     ]
    }
   ],
   "source": [
    "accuracy_forest = accuracy_score(test_target, mnist_pred_forest)\n",
    "\n",
    "print ('UBITname      = APURBAMA')\n",
    "print ('Person Number = 50288705')\n",
    "print(\"--------Random Forest MNIST accuracy------------\")\n",
    "print(accuracy_forest*100)\n",
    "print ('---------- Confusion Matrix--------------------')\n",
    "print(confusion_matrix(test_target, mnist_pred_forest))"
   ]
  },
  {
   "cell_type": "code",
   "execution_count": 29,
   "metadata": {},
   "outputs": [
    {
     "name": "stdout",
     "output_type": "stream",
     "text": [
      "--------Random Forest USPS accuracy------------\n",
      "40.60203010150508\n",
      "---------- Confusion Matrix--------------------\n",
      "[[ 640   14  272   57  431  157   65  104    3  257]\n",
      " [  45  580  127  103   43   89   25  971   16    1]\n",
      " [  73   31 1310   68   47  191   17  256    3    3]\n",
      " [  34    8   99 1319   49  302    4  166    3   16]\n",
      " [  13  209   62   27 1060  191   13  388   21   16]\n",
      " [ 144   27  142   73   23 1439   27  112    8    5]\n",
      " [ 310   49  227   22   88  333  813  144    2   12]\n",
      " [  35  343  368  247   33  224   36  703    3    8]\n",
      " [  40   46  151  187  112 1115   69   96  168   16]\n",
      " [  20  270  236  304  242  136    3  621   80   88]]\n"
     ]
    }
   ],
   "source": [
    "usps_accuracy_forest = accuracy_score(USPS_Target, usps_pred_forest)\n",
    "print(\"--------Random Forest USPS accuracy------------\")\n",
    "print(usps_accuracy_forest*100)\n",
    "print ('---------- Confusion Matrix--------------------')\n",
    "print(confusion_matrix(USPS_Target, usps_pred_forest))"
   ]
  },
  {
   "cell_type": "markdown",
   "metadata": {},
   "source": [
    "# Ensemble Classifier-Majority Voting"
   ]
  },
  {
   "cell_type": "code",
   "execution_count": 33,
   "metadata": {},
   "outputs": [],
   "source": [
    "#print(mode([1,1,2,2,2,3,3,3]))\n",
    "\n",
    "def mode(array):\n",
    "    most = max(list(map(array.count, array)))\n",
    "    return max(filter(lambda x: array.count(x) == most, array))"
   ]
  },
  {
   "cell_type": "code",
   "execution_count": 59,
   "metadata": {},
   "outputs": [],
   "source": [
    "# MNIST Majority Voting\n",
    "\n",
    "mnistMajorityVotedClass = np.array([])\n",
    "\n",
    "\n",
    "\n",
    "for i in range(0,len(test_target)):\n",
    "    mnistMajorityVotedClass = np.append(mnistMajorityVotedClass, \n",
    "                                   mode([softmaxMNISTPred[i],mnistNNPredictions[i], mnist_pred_svm[i], mnist_pred_forest[i]]))\n",
    "\n",
    "\n",
    "\n"
   ]
  },
  {
   "cell_type": "code",
   "execution_count": 60,
   "metadata": {},
   "outputs": [],
   "source": [
    "#USPS Majority Voting\n",
    "\n",
    "uspsMajorityVotedClass = np.array([])\n",
    "\n",
    "\n",
    "\n",
    "for i in range(0,len(USPS_Target)):\n",
    "    uspsMajorityVotedClass = np.append(uspsMajorityVotedClass, \n",
    "                                   mode([softmaxUSPSPred[i],uspsNNPredictions[i], usps_pred_svm[i], usps_pred_forest[i]]))\n"
   ]
  },
  {
   "cell_type": "code",
   "execution_count": 31,
   "metadata": {},
   "outputs": [],
   "source": []
  },
  {
   "cell_type": "code",
   "execution_count": 61,
   "metadata": {},
   "outputs": [
    {
     "name": "stdout",
     "output_type": "stream",
     "text": [
      "0.9665\n",
      "0.41732086604330215\n"
     ]
    }
   ],
   "source": [
    "from sklearn.metrics import accuracy_score\n",
    "from sklearn.metrics import confusion_matrix\n",
    "\n",
    "mnist_accuracy_maj_voting = accuracy_score(test_target, mnistMajorityVotedClass)\n",
    "usps_accuracy_maj_voting = accuracy_score(USPS_Target, uspsMajorityVotedClass)\n",
    "print(mnist_accuracy_maj_voting)\n",
    "print(usps_accuracy_maj_voting)"
   ]
  },
  {
   "cell_type": "code",
   "execution_count": 62,
   "metadata": {},
   "outputs": [
    {
     "name": "stdout",
     "output_type": "stream",
     "text": [
      "UBITname      = APURBAMA\n",
      "Person Number = 50288705\n",
      "--------Ensemble Majority Voting MNIST accuracy------------\n",
      "96.65\n",
      "---------- Confusion Matrix--------------------\n",
      "[[ 968    0    0    1    0    1    6    1    2    1]\n",
      " [   0 1120    2    3    0    0    3    0    6    1]\n",
      " [   4    0  978    8    6    0    9   11   14    2]\n",
      " [   0    0    6  968    0   12    1   10   11    2]\n",
      " [   1    0    1    0  954    0    4    0    2   20]\n",
      " [   3    0    1    6    0  854    8    1   15    4]\n",
      " [   5    3    1    0    3    4  939    0    3    0]\n",
      " [   1    5   14    2    1    0    0  987    1   17]\n",
      " [   4    1    5    8    4    4    1    7  931    9]\n",
      " [   6    6    1    7   10    4    0    7    2  966]]\n"
     ]
    }
   ],
   "source": [
    "print ('UBITname      = APURBAMA')\n",
    "print ('Person Number = 50288705')\n",
    "print(\"--------Ensemble Majority Voting MNIST accuracy------------\")\n",
    "print(mnist_accuracy_maj_voting*100)\n",
    "print ('---------- Confusion Matrix--------------------')\n",
    "print(confusion_matrix(test_target, mnistMajorityVotedClass))"
   ]
  },
  {
   "cell_type": "code",
   "execution_count": 63,
   "metadata": {},
   "outputs": [
    {
     "name": "stdout",
     "output_type": "stream",
     "text": [
      "--------Ensemble Majority Voting USPS accuracy------------\n",
      "41.73208660433021\n",
      "---------- Confusion Matrix--------------------\n",
      "[[ 529    4  284   54  240  241  121  127   29  371]\n",
      " [  50  371  377  175  123  101   22  646  100   35]\n",
      " [  61   13 1391   88   41  155   65  135   30   20]\n",
      " [  36    1  125 1341   17  308   14   76   41   41]\n",
      " [  11   97   56   29 1040  171   17  371  136   72]\n",
      " [  65   13  209   99   15 1415   47   84   33   20]\n",
      " [ 182   12  385   36   62  245  918   80   23   57]\n",
      " [  27  156  233  454   38  177   30  718  136   31]\n",
      " [ 103   21  131  244   78  770  108  103  374   68]\n",
      " [  11  125  132  380  136   79    7  664  217  249]]\n"
     ]
    }
   ],
   "source": [
    "print(\"--------Ensemble Majority Voting USPS accuracy------------\")\n",
    "print(usps_accuracy_maj_voting*100)\n",
    "print ('---------- Confusion Matrix--------------------')\n",
    "print(confusion_matrix(USPS_Target, uspsMajorityVotedClass))"
   ]
  }
 ],
 "metadata": {
  "kernelspec": {
   "display_name": "Python 3",
   "language": "python",
   "name": "python3"
  },
  "language_info": {
   "codemirror_mode": {
    "name": "ipython",
    "version": 3
   },
   "file_extension": ".py",
   "mimetype": "text/x-python",
   "name": "python",
   "nbconvert_exporter": "python",
   "pygments_lexer": "ipython3",
   "version": "3.6.6"
  }
 },
 "nbformat": 4,
 "nbformat_minor": 2
}
