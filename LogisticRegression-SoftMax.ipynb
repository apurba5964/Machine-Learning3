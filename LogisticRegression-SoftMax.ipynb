{
 "cells": [
  {
   "cell_type": "markdown",
   "metadata": {},
   "source": [
    "## Load MNIST on Python 3.x"
   ]
  },
  {
   "cell_type": "code",
   "execution_count": 1,
   "metadata": {},
   "outputs": [],
   "source": [
    "import pickle\n",
    "import gzip\n",
    "import numpy as np"
   ]
  },
  {
   "cell_type": "code",
   "execution_count": 125,
   "metadata": {},
   "outputs": [
    {
     "name": "stdout",
     "output_type": "stream",
     "text": [
      "(50000, 784)\n",
      "(10000, 784)\n",
      "(10000, 784)\n",
      "(50000,)\n",
      "(10000,)\n",
      "(10000,)\n"
     ]
    }
   ],
   "source": [
    "filename = 'mnist.pkl.gz'\n",
    "f = gzip.open(filename, 'rb')\n",
    "training_data, validation_data, testing_data = pickle.load(f, encoding='latin1')\n",
    "\n",
    "train_data=np.array(training_data[0])\n",
    "train_target=np.array(training_data[1])\n",
    "valid_data=np.array(validation_data[0])\n",
    "valid_target=np.array(validation_data[1])\n",
    "test_data=np.array(testing_data[0])\n",
    "test_target=np.array(testing_data[1])\n",
    "\n",
    "print(train_data.shape)\n",
    "print(valid_data.shape)\n",
    "print(test_data.shape)\n",
    "\n",
    "print(train_target.shape)\n",
    "print(valid_target.shape)\n",
    "print(test_target.shape)\n",
    "f.close()"
   ]
  },
  {
   "cell_type": "markdown",
   "metadata": {},
   "source": [
    "## Load USPS on Python 3.x"
   ]
  },
  {
   "cell_type": "code",
   "execution_count": 28,
   "metadata": {},
   "outputs": [],
   "source": [
    "from PIL import Image\n",
    "import os\n"
   ]
  },
  {
   "cell_type": "code",
   "execution_count": 154,
   "metadata": {},
   "outputs": [
    {
     "name": "stdout",
     "output_type": "stream",
     "text": [
      "(19999, 784)\n",
      "(19999,)\n"
     ]
    }
   ],
   "source": [
    "USPSMat  = []\n",
    "USPSTar  = []\n",
    "curPath  = 'USPSdata/Numerals'\n",
    "savedImg = []\n",
    "\n",
    "for j in range(0,10):\n",
    "    curFolderPath = curPath + '/' + str(j)\n",
    "    imgs =  os.listdir(curFolderPath)\n",
    "    for img in imgs:\n",
    "        curImg = curFolderPath + '/' + img\n",
    "        if curImg[-3:] == 'png':\n",
    "            img = Image.open(curImg,'r')\n",
    "            img = img.resize((28, 28))\n",
    "            savedImg = img\n",
    "            imgdata = (255-np.array(img.getdata()))/255\n",
    "            USPSMat.append(imgdata)\n",
    "            USPSTar.append(j)\n",
    "print(np.array(USPSMat).shape)\n",
    "print(np.array(USPSTar).shape)\n",
    "USPS_data=np.array(USPSMat)\n",
    "USPS_Target=np.array(USPSTar)"
   ]
  },
  {
   "cell_type": "code",
   "execution_count": 174,
   "metadata": {},
   "outputs": [],
   "source": [
    "#Softmax function\n",
    "\n",
    "def softmax(x):\n",
    "    #print(x.shape)\n",
    "    x -= np.max(x)\n",
    "    return np.exp(x) / np.sum(np.exp(x), axis=0)"
   ]
  },
  {
   "cell_type": "code",
   "execution_count": 175,
   "metadata": {},
   "outputs": [],
   "source": [
    "#One Hot Encoding\n",
    "import scipy.sparse\n",
    "def oneHotEncoding(Y):\n",
    "    m = Y.shape[0]\n",
    "    #Y = Y[:,0]\n",
    "    oneHot = scipy.sparse.csr_matrix((np.ones(m), (Y, np.array(range(m)))))\n",
    "    oneHot = np.array(oneHot.todense()).T\n",
    "    return oneHot"
   ]
  },
  {
   "cell_type": "code",
   "execution_count": 176,
   "metadata": {},
   "outputs": [
    {
     "name": "stdout",
     "output_type": "stream",
     "text": [
      "(50000, 10)\n",
      "(10000, 10)\n",
      "(10000, 10)\n",
      "50000\n"
     ]
    }
   ],
   "source": [
    "oneHotTestTarget=oneHotEncoding(test_target)\n",
    "oneHotValidTarget=oneHotEncoding(valid_target)\n",
    "oneHotTrainTarget=oneHotEncoding(train_target)\n",
    "print(oneHotTrainTarget.shape)\n",
    "print(oneHotValidTarget.shape)\n",
    "print(oneHotTestTarget.shape)\n",
    "print(train_data.shape[0])"
   ]
  },
  {
   "cell_type": "code",
   "execution_count": 177,
   "metadata": {},
   "outputs": [],
   "source": [
    "\n",
    "def getGradientandLoss(w,x,y,lamda,bias):\n",
    "    m = x.shape[0] # number of training examples\n",
    "    y_mat = oneHotEncoding(y) #integer class coding into a one-hot representation\n",
    "    z = np.dot(x,w) #Then we compute raw class scores given our input and current weights\n",
    "    \n",
    "    #print(z[10000])\n",
    "    \n",
    "    prob = softmax(z+bias) #perform a softmax to get their probabilities\n",
    "    \n",
    "    #print(prob.shape)\n",
    "    loss = (-1 / m) * np.sum(y_mat * np.log(prob)) + (lamda/2)*np.sum(w*w) #We then find the loss of the probabilities\n",
    "    grad = (-1 / m) * np.dot(x.T,(y_mat - prob)) + lamda*w #compute the gradient for that loss\n",
    "    return loss,grad"
   ]
  },
  {
   "cell_type": "code",
   "execution_count": 189,
   "metadata": {},
   "outputs": [
    {
     "name": "stdout",
     "output_type": "stream",
     "text": [
      "784\n",
      "10\n"
     ]
    }
   ],
   "source": [
    "def getProbsAndPreds(data):\n",
    "    probs = softmax(np.dot(data,w))\n",
    "    preds = np.argmax(probs,axis=1)\n",
    "    return probs,preds\n",
    "\n",
    "print(train_data.shape[1])\n",
    "print(len(np.unique(train_target)))"
   ]
  },
  {
   "cell_type": "code",
   "execution_count": 183,
   "metadata": {},
   "outputs": [
    {
     "name": "stdout",
     "output_type": "stream",
     "text": [
      "10.807741968801144\n"
     ]
    }
   ],
   "source": [
    "w = np.zeros([train_data.shape[1],len(np.unique(train_target))])\n",
    "b = np.zeros([train_data.shape[0],len(np.unique(train_target))])\n",
    "lamda = 10\n",
    "iterations = 300\n",
    "learningRate = 1e-4\n",
    "losses = []\n",
    "for i in range(0,iterations):\n",
    "    loss,grad = getGradientandLoss(w,train_data,train_target,lamda,b)\n",
    "    losses.append(loss)\n",
    "    w = w - (learningRate * grad)\n",
    "    \n",
    "print(loss)"
   ]
  },
  {
   "cell_type": "code",
   "execution_count": 184,
   "metadata": {},
   "outputs": [
    {
     "data": {
      "text/plain": [
       "[<matplotlib.lines.Line2D at 0x1110179b0>]"
      ]
     },
     "execution_count": 184,
     "metadata": {},
     "output_type": "execute_result"
    },
    {
     "data": {
      "image/png": "[encoded data removed]",
      "text/plain": [
       "<Figure size 432x288 with 1 Axes>"
      ]
     },
     "metadata": {},
     "output_type": "display_data"
    }
   ],
   "source": [
    "import matplotlib.pyplot as plt\n",
    "plt.plot(losses)"
   ]
  },
  {
   "cell_type": "code",
   "execution_count": 227,
   "metadata": {},
   "outputs": [],
   "source": [
    "from sklearn.metrics import confusion_matrix\n",
    "from sklearn.metrics import accuracy_score\n",
    "def getAccuracy(data,target):\n",
    "    prob,prede = getProbsAndPreds(data)\n",
    "    print ('---------- Confusion Matrix--------------------')\n",
    "    print(confusion_matrix(target, prede))\n",
    "    \n",
    "    accuracy = accuracy_score(target, prede)\n",
    "    return accuracy"
   ]
  },
  {
   "cell_type": "code",
   "execution_count": 228,
   "metadata": {},
   "outputs": [
    {
     "name": "stdout",
     "output_type": "stream",
     "text": [
      "----------Softmax Logistic Regression --------------------\n",
      "----------Stochastic Gradient Descent --------------------\n",
      "UBITname      = APURBAMA\n",
      "Person Number = 50288705\n",
      "---------- Confusion Matrix--------------------\n",
      "[[4738   16   14   25    7   16   93    7   10    6]\n",
      " [   0 5618   16    9    2    7   12    8    3    3]\n",
      " [ 318  725 3287  124  119    2  187  132   66    8]\n",
      " [ 221  447  112 3903   15   72   58  123   86   64]\n",
      " [  68  294   15    0 3996    2  127   74   10  273]\n",
      " [ 878  831    6  989  134 1190  148  148   66  116]\n",
      " [ 298  346   45    8   51   17 4181    2    3    0]\n",
      " [ 107  450   41    4   79    4    4 4419    7   60]\n",
      " [ 234 1128   62  633   67   23   85   79 2386  145]\n",
      " [ 178  413   17   95  602    8    8  779   21 2867]]\n",
      "Training Accuracy 73.17\n",
      "---------- Confusion Matrix--------------------\n",
      "[[ 944    5    3    6    0    2   21    5    5    0]\n",
      " [   0 1056    1    1    0    3    0    2    0    1]\n",
      " [  53  121  717   24   22    0   18   20   14    1]\n",
      " [  38   70   22  843    3   11    5    9   17   12]\n",
      " [  11   65    0    0  822    0   11    7    2   65]\n",
      " [ 199  154    6  183   23  253   30   30    8   29]\n",
      " [  46   65    8    0    8    1  839    0    0    0]\n",
      " [  25  102    8    0   14    0    0  938    0    3]\n",
      " [  39  246   13  110    6    3   13   25  530   24]\n",
      " [  30   64    2   15   93    2    2  142    2  609]]\n",
      "Validation Accuracy 75.51\n",
      "---------- Confusion Matrix--------------------\n",
      "[[ 956    3    0    3    0    4   10    1    3    0]\n",
      " [   0 1128    0    4    0    0    3    0    0    0]\n",
      " [  69  191  660   22   22    1   22   25   19    1]\n",
      " [  36   81   22  818    0    5    6   22   12    8]\n",
      " [  10   73    1    0  817    1   32    6    0   42]\n",
      " [ 163  148    0  215   30  244   29   39    9   15]\n",
      " [  76   51    8    0   16    6  801    0    0    0]\n",
      " [  13   94   15    0   12    0    0  884    1    9]\n",
      " [  61  169    9  130   15    5   18   32  515   20]\n",
      " [  39   63    6   12  130    1    2  126    2  628]]\n",
      "Testing MNIST Accuracy 74.51\n",
      "---------- Confusion Matrix--------------------\n",
      "[[ 942   92  184   28  311   17   72   97   21  236]\n",
      " [ 230  815   42  133   56   33   54  580   42   15]\n",
      " [ 473  338  575  108   65   16  164  182   63   15]\n",
      " [ 394  103   42 1033   28   44   56  137   90   73]\n",
      " [ 232  360   17   40  800   55   37  277   76  106]\n",
      " [ 487  319   75  387   34  233  174  158   59   74]\n",
      " [ 853  156  100   70   79   27  603   66   21   25]\n",
      " [ 153  897   85  153   30  104   45  419   85   29]\n",
      " [ 387  424   82  228   92  121  205   78  283  100]\n",
      " [ 185  536   69  310  104   32   32  460  171  101]]\n",
      "Testing USPS Accuracy 29.021451072553628\n"
     ]
    }
   ],
   "source": [
    "print ('----------Softmax Logistic Regression --------------------')\n",
    "print ('----------Stochastic Gradient Descent --------------------')\n",
    "print ('UBITname      = APURBAMA')\n",
    "print ('Person Number = 50288705')\n",
    "print(\"Training Accuracy \"+ str(getAccuracy(train_data,train_target)*100))\n",
    "print(\"Validation Accuracy \"+ str(getAccuracy(valid_data,valid_target)*100))\n",
    "print(\"Testing MNIST Accuracy \"+ str(getAccuracy(test_data,test_target)*100))\n",
    "print(\"Testing USPS Accuracy \"+ str(getAccuracy(USPS_data,USPS_Target)*100))"
   ]
  },
  {
   "cell_type": "code",
   "execution_count": 192,
   "metadata": {},
   "outputs": [],
   "source": []
  }
 ],
 "metadata": {
  "kernelspec": {
   "display_name": "Python 3",
   "language": "python",
   "name": "python3"
  },
  "language_info": {
   "codemirror_mode": {
    "name": "ipython",
    "version": 3
   },
   "file_extension": ".py",
   "mimetype": "text/x-python",
   "name": "python",
   "nbconvert_exporter": "python",
   "pygments_lexer": "ipython3",
   "version": "3.6.6"
  }
 },
 "nbformat": 4,
 "nbformat_minor": 2
}
